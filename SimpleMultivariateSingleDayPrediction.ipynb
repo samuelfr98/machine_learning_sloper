{
 "cells": [
  {
   "cell_type": "code",
   "execution_count": 1,
   "metadata": {
    "id": "TsbMThJuBo95"
   },
   "outputs": [],
   "source": [
    "## Long Short Term Memory (LSTM) Recurrent Neural Network (RNN)\n",
    "\n",
    "## This program considers the past 60 day stock price for predictions.\n",
    "\n",
    "## Current features are daily Close, Open, High, Low, and Volume. These will likely be tweaked in subsequent analyses over time to possible include:\n",
    "#   Difference between 50 day moving average and 200 day moving average\n",
    "#   52 week high, low, moving average\n",
    "#   Difference between 52 week average volume and current volume\n"
   ]
  },
  {
   "cell_type": "code",
   "execution_count": 2,
   "metadata": {
    "colab": {
     "base_uri": "https://localhost:8080/"
    },
    "id": "UCLzkNONnzzn",
    "outputId": "eb31934e-2a7b-4cf0-fdab-c99f96ccb937"
   },
   "outputs": [],
   "source": [
    "# !pip install --upgrade pandas-datareader\n",
    "# !pip install yfinance"
   ]
  },
  {
   "cell_type": "markdown",
   "metadata": {},
   "source": [
    "<h1>Importing Dependencies</h1>"
   ]
  },
  {
   "cell_type": "code",
   "execution_count": 3,
   "metadata": {
    "id": "tTDVN6TyjaDP"
   },
   "outputs": [],
   "source": [
    "# Imports\n",
    "\n",
    "import math\n",
    "import pandas_datareader.data as web\n",
    "import numpy as np\n",
    "import pandas as pd\n",
    "from sklearn.preprocessing import MinMaxScaler\n",
    "from keras.models import Sequential\n",
    "from keras.layers import Dense, LSTM, Dropout, BatchNormalization, Flatten\n",
    "from keras import optimizers, callbacks\n",
    "import tensorflow as tf\n",
    "import matplotlib.pyplot as plt\n",
    "import plotly.express as px\n",
    "plt.style.use('fivethirtyeight')\n"
   ]
  },
  {
   "cell_type": "markdown",
   "metadata": {},
   "source": [
    "<h1>Gathering Data</h1>"
   ]
  },
  {
   "cell_type": "code",
   "execution_count": 4,
   "metadata": {
    "colab": {
     "base_uri": "https://localhost:8080/",
     "height": 467
    },
    "id": "b8PmvzZSl5oe",
    "outputId": "8cb6c8da-6f35-4e95-b78d-a813eb778e61"
   },
   "outputs": [
    {
     "name": "stdout",
     "output_type": "stream",
     "text": [
      "[*********************100%%**********************]  1 of 1 completed\n"
     ]
    },
    {
     "data": {
      "text/html": [
       "<div>\n",
       "<style scoped>\n",
       "    .dataframe tbody tr th:only-of-type {\n",
       "        vertical-align: middle;\n",
       "    }\n",
       "\n",
       "    .dataframe tbody tr th {\n",
       "        vertical-align: top;\n",
       "    }\n",
       "\n",
       "    .dataframe thead th {\n",
       "        text-align: right;\n",
       "    }\n",
       "</style>\n",
       "<table border=\"1\" class=\"dataframe\">\n",
       "  <thead>\n",
       "    <tr style=\"text-align: right;\">\n",
       "      <th></th>\n",
       "      <th>Open</th>\n",
       "      <th>High</th>\n",
       "      <th>Low</th>\n",
       "      <th>Close</th>\n",
       "      <th>Adj Close</th>\n",
       "      <th>Volume</th>\n",
       "    </tr>\n",
       "    <tr>\n",
       "      <th>Date</th>\n",
       "      <th></th>\n",
       "      <th></th>\n",
       "      <th></th>\n",
       "      <th></th>\n",
       "      <th></th>\n",
       "      <th></th>\n",
       "    </tr>\n",
       "  </thead>\n",
       "  <tbody>\n",
       "    <tr>\n",
       "      <th>2017-01-03</th>\n",
       "      <td>62.790001</td>\n",
       "      <td>62.840000</td>\n",
       "      <td>62.130001</td>\n",
       "      <td>62.580002</td>\n",
       "      <td>57.138729</td>\n",
       "      <td>20694100</td>\n",
       "    </tr>\n",
       "    <tr>\n",
       "      <th>2017-01-04</th>\n",
       "      <td>62.480000</td>\n",
       "      <td>62.750000</td>\n",
       "      <td>62.119999</td>\n",
       "      <td>62.299999</td>\n",
       "      <td>56.883080</td>\n",
       "      <td>21340000</td>\n",
       "    </tr>\n",
       "    <tr>\n",
       "      <th>2017-01-05</th>\n",
       "      <td>62.189999</td>\n",
       "      <td>62.660000</td>\n",
       "      <td>62.029999</td>\n",
       "      <td>62.299999</td>\n",
       "      <td>56.883080</td>\n",
       "      <td>24876000</td>\n",
       "    </tr>\n",
       "    <tr>\n",
       "      <th>2017-01-06</th>\n",
       "      <td>62.299999</td>\n",
       "      <td>63.150002</td>\n",
       "      <td>62.040001</td>\n",
       "      <td>62.840000</td>\n",
       "      <td>57.376118</td>\n",
       "      <td>19922900</td>\n",
       "    </tr>\n",
       "    <tr>\n",
       "      <th>2017-01-09</th>\n",
       "      <td>62.759998</td>\n",
       "      <td>63.080002</td>\n",
       "      <td>62.540001</td>\n",
       "      <td>62.639999</td>\n",
       "      <td>57.193512</td>\n",
       "      <td>20382700</td>\n",
       "    </tr>\n",
       "    <tr>\n",
       "      <th>...</th>\n",
       "      <td>...</td>\n",
       "      <td>...</td>\n",
       "      <td>...</td>\n",
       "      <td>...</td>\n",
       "      <td>...</td>\n",
       "      <td>...</td>\n",
       "    </tr>\n",
       "    <tr>\n",
       "      <th>2023-09-01</th>\n",
       "      <td>331.309998</td>\n",
       "      <td>331.989990</td>\n",
       "      <td>326.779999</td>\n",
       "      <td>328.660004</td>\n",
       "      <td>327.994293</td>\n",
       "      <td>14931200</td>\n",
       "    </tr>\n",
       "    <tr>\n",
       "      <th>2023-09-05</th>\n",
       "      <td>329.000000</td>\n",
       "      <td>334.850006</td>\n",
       "      <td>328.660004</td>\n",
       "      <td>333.549988</td>\n",
       "      <td>332.874359</td>\n",
       "      <td>18553900</td>\n",
       "    </tr>\n",
       "    <tr>\n",
       "      <th>2023-09-06</th>\n",
       "      <td>333.380005</td>\n",
       "      <td>334.459991</td>\n",
       "      <td>330.179993</td>\n",
       "      <td>332.880005</td>\n",
       "      <td>332.205750</td>\n",
       "      <td>17535800</td>\n",
       "    </tr>\n",
       "    <tr>\n",
       "      <th>2023-09-07</th>\n",
       "      <td>331.290009</td>\n",
       "      <td>333.079987</td>\n",
       "      <td>329.029999</td>\n",
       "      <td>329.910004</td>\n",
       "      <td>329.241760</td>\n",
       "      <td>18381000</td>\n",
       "    </tr>\n",
       "    <tr>\n",
       "      <th>2023-09-08</th>\n",
       "      <td>330.089996</td>\n",
       "      <td>336.160004</td>\n",
       "      <td>329.459991</td>\n",
       "      <td>334.269989</td>\n",
       "      <td>333.592896</td>\n",
       "      <td>19530100</td>\n",
       "    </tr>\n",
       "  </tbody>\n",
       "</table>\n",
       "<p>1682 rows × 6 columns</p>\n",
       "</div>"
      ],
      "text/plain": [
       "                  Open        High         Low       Close   Adj Close  \\\n",
       "Date                                                                     \n",
       "2017-01-03   62.790001   62.840000   62.130001   62.580002   57.138729   \n",
       "2017-01-04   62.480000   62.750000   62.119999   62.299999   56.883080   \n",
       "2017-01-05   62.189999   62.660000   62.029999   62.299999   56.883080   \n",
       "2017-01-06   62.299999   63.150002   62.040001   62.840000   57.376118   \n",
       "2017-01-09   62.759998   63.080002   62.540001   62.639999   57.193512   \n",
       "...                ...         ...         ...         ...         ...   \n",
       "2023-09-01  331.309998  331.989990  326.779999  328.660004  327.994293   \n",
       "2023-09-05  329.000000  334.850006  328.660004  333.549988  332.874359   \n",
       "2023-09-06  333.380005  334.459991  330.179993  332.880005  332.205750   \n",
       "2023-09-07  331.290009  333.079987  329.029999  329.910004  329.241760   \n",
       "2023-09-08  330.089996  336.160004  329.459991  334.269989  333.592896   \n",
       "\n",
       "              Volume  \n",
       "Date                  \n",
       "2017-01-03  20694100  \n",
       "2017-01-04  21340000  \n",
       "2017-01-05  24876000  \n",
       "2017-01-06  19922900  \n",
       "2017-01-09  20382700  \n",
       "...              ...  \n",
       "2023-09-01  14931200  \n",
       "2023-09-05  18553900  \n",
       "2023-09-06  17535800  \n",
       "2023-09-07  18381000  \n",
       "2023-09-08  19530100  \n",
       "\n",
       "[1682 rows x 6 columns]"
      ]
     },
     "execution_count": 4,
     "metadata": {},
     "output_type": "execute_result"
    }
   ],
   "source": [
    "# Data gathering\n",
    "import yfinance as yf\n",
    "yf.pdr_override()\n",
    "df = web.get_data_yahoo('MSFT', start='2017-01-01', end='2023-09-10')\n",
    "df"
   ]
  },
  {
   "cell_type": "code",
   "execution_count": 5,
   "metadata": {
    "colab": {
     "base_uri": "https://localhost:8080/"
    },
    "id": "uPHPvOJAp82t",
    "outputId": "95339a2e-193a-4f30-91b8-cc557fdac7fd"
   },
   "outputs": [
    {
     "data": {
      "text/plain": [
       "(1682, 6)"
      ]
     },
     "execution_count": 5,
     "metadata": {},
     "output_type": "execute_result"
    }
   ],
   "source": [
    "# Retrieve matrix dimensions: (# rows, # columns)\n",
    "df.shape"
   ]
  },
  {
   "cell_type": "code",
   "execution_count": 6,
   "metadata": {
    "colab": {
     "base_uri": "https://localhost:8080/",
     "height": 658
    },
    "id": "oP-B5BP4qPG9",
    "outputId": "9fef549b-33ed-414a-ceec-999ffe1c9715"
   },
   "outputs": [
    {
     "data": {
      "image/png": "[encoded data removed]",
      "text/plain": [
       "<Figure size 1600x800 with 1 Axes>"
      ]
     },
     "metadata": {},
     "output_type": "display_data"
    }
   ],
   "source": [
    "# Visualize closing prices of gathered historic data\n",
    "\n",
    "plt.figure(figsize=(16,8))\n",
    "plt.title='Close Price History'\n",
    "plt.plot(df['Close'])\n",
    "plt.xlabel('Date', fontsize=18)\n",
    "plt.ylabel('Close Price ($USD)', fontsize=18)\n",
    "\n",
    "plt.show()"
   ]
  },
  {
   "cell_type": "markdown",
   "metadata": {},
   "source": [
    "<h1>Data Preprocessing</h1>"
   ]
  },
  {
   "cell_type": "code",
   "execution_count": 7,
   "metadata": {
    "colab": {
     "base_uri": "https://localhost:8080/"
    },
    "id": "2Rjgh0v7rNsa",
    "outputId": "80949317-d77d-4e56-afc8-513ce657f0f7"
   },
   "outputs": [
    {
     "name": "stdout",
     "output_type": "stream",
     "text": [
      "1346\n"
     ]
    }
   ],
   "source": [
    "# Data preprocessing\n",
    "\n",
    "# Filter to relevant features only\n",
    "data = df.filter(['Close', 'Open', 'High', 'Low', 'Volume'])\n",
    "\n",
    "# Isolate dates as independent variables. This may be redundant later but useful in attaching dates to final predictions.\n",
    "date_train = df.index.strftime(\"%Y-%m-%d\").tolist()\n",
    "date_train = [pd.to_datetime(d) for d in date_train]\n",
    "\n",
    "# Convert dataframe to a numpy array\n",
    "dataset = data.values\n",
    "\n",
    "# Compute row count to train the model on => 80% of data for training\n",
    "training_data_len = math.ceil(len(dataset) * 0.8)\n",
    "print(training_data_len)"
   ]
  },
  {
   "cell_type": "code",
   "execution_count": 8,
   "metadata": {
    "colab": {
     "base_uri": "https://localhost:8080/"
    },
    "id": "COVH-eL_r-6p",
    "outputId": "efb7f270-6cac-451d-b8ef-69a306c389cf"
   },
   "outputs": [
    {
     "data": {
      "text/plain": [
       "array([[9.4215572e-04, 2.0029396e-03, 5.9187412e-04, 6.1964989e-04,\n",
       "        1.2780724e-01],\n",
       "       [0.0000000e+00, 9.6808374e-04, 2.9593706e-04, 5.8521330e-04,\n",
       "        1.3402879e-01],\n",
       "       [0.0000000e+00, 0.0000000e+00, 0.0000000e+00, 2.7538836e-04,\n",
       "        1.6808890e-01],\n",
       "       ...,\n",
       "       [9.1046137e-01, 9.0529448e-01, 8.9372605e-01, 9.2337090e-01,\n",
       "        9.7385287e-02],\n",
       "       [9.0046769e-01, 8.9831752e-01, 8.8918835e-01, 9.1941208e-01,\n",
       "        1.0552658e-01],\n",
       "       [9.1513842e-01, 8.9431161e-01, 8.9931601e-01, 9.2089230e-01,\n",
       "        1.1659515e-01]], dtype=float32)"
      ]
     },
     "execution_count": 8,
     "metadata": {},
     "output_type": "execute_result"
    }
   ],
   "source": [
    "# Scale the data for preprocessing. Simply normalizes each column's values from 0:1\n",
    "scaler = MinMaxScaler(feature_range=(0,1))\n",
    "scaled_data = scaler.fit_transform(np.float32(dataset))  \n",
    "\n",
    "scaled_data"
   ]
  },
  {
   "cell_type": "code",
   "execution_count": 9,
   "metadata": {
    "colab": {
     "base_uri": "https://localhost:8080/"
    },
    "id": "bRSny7-3si4R",
    "outputId": "fa198984-434e-44b4-b6b0-9ab8070870ac"
   },
   "outputs": [],
   "source": [
    "# Create the training data set\n",
    "\n",
    "# Create the scaled training data set\n",
    "\n",
    "\n",
    "\n",
    "  \n",
    "def data_prep(df, batch_size, forecast_size, scaler):\n",
    "  df_slice = df[0:training_data_len]\n",
    "  \n",
    "  date_train = df_slice.index.strftime(\"%Y-%m-%d\").tolist()\n",
    "  date_train = [pd.to_datetime(d) for d in date_train]\n",
    "  df_train = df_slice.filter(['Close', 'Open', 'High', 'Low', 'Volume'])\n",
    "  df_train_scaled = scaler.fit_transform(np.float32(df_train))  \n",
    "  \n",
    "  df_train_scaled = df_train_scaled[0:training_data_len, :]\n",
    "\n",
    "  x_train = []\n",
    "  y_train = []\n",
    "  \n",
    "  # Columns in place --> 0: Close, 1: Open, 2: High, 3: Low, 4: Volume\n",
    "  for i in range(batch_size, len(df_train_scaled)-forecast_size+1):\n",
    "    x_train.append(df_train_scaled[i-batch_size:i, 0:df_train.shape[1]])        # All features at positions 0 to 59\n",
    "    y_train.append(df_train_scaled[i+forecast_size-1:i+forecast_size,1])        # Open at position 60\n",
    "  \n",
    "  return np.array(x_train), np.array(y_train), df_train, date_train\n",
    "\n",
    "\n",
    "   \n",
    "Lstm_x, Lstm_y, df_train, date_train = data_prep(df, 60, 1, scaler)\n",
    "      "
   ]
  },
  {
   "cell_type": "markdown",
   "metadata": {},
   "source": [
    "<h1>Define the Models</h1>"
   ]
  },
  {
   "cell_type": "code",
   "execution_count": 10,
   "metadata": {
    "id": "cw_lU62uusE7"
   },
   "outputs": [],
   "source": [
    "# Build the LSTM Model(s)\n",
    "def lstm_fallback(x, y):\n",
    "    model = Sequential()\n",
    "    model.add(LSTM(64, activation='relu',input_shape=(x.shape[1], x.shape[2]),  return_sequences=True))\n",
    "    model.add(Dropout(0.2))\n",
    "    model.add(BatchNormalization())\n",
    "    model.add(LSTM(32, activation='relu', return_sequences=False))\n",
    "    model.add(Dropout(0.2))\n",
    "    model.add(BatchNormalization())\n",
    "    model.add(Dense(32, activation='relu'))\n",
    "    model.add(Dense(y.shape[1], activation='relu'))\n",
    "    opt = optimizers.legacy.Adam(lr=0.001, decay=1e-6)  \n",
    "    model.compile(\n",
    "            loss='mse',\n",
    "            optimizer=opt,\n",
    "        )\n",
    "    es = callbacks.EarlyStopping(monitor='loss', patience=15, restore_best_weights=True)\n",
    "    model.fit(x, y, epochs=4, verbose=1, callbacks=[es], validation_split=0.1, batch_size=16)\n",
    "    return model\n",
    "\n",
    "\n",
    "def Lstm_model1(x, y):\n",
    "    regressor = Sequential()\n",
    "\n",
    "    regressor.add(LSTM(units = 50, return_sequences = True, input_shape = (x.shape[1], x.shape[2])))\n",
    "    regressor.add(Dropout(0.2))\n",
    "    regressor.add(LSTM(units = 50, return_sequences = True))\n",
    "    regressor.add(Dropout(0.2))\n",
    "    regressor.add(LSTM(units = 50, return_sequences = True))\n",
    "    regressor.add(Dropout(0.2))\n",
    "    regressor.add(LSTM(units = 50))\n",
    "    regressor.add(Dropout(0.2))\n",
    "    regressor.add(Dense(units = 1))\n",
    "\n",
    "    regressor.compile(optimizer = 'adam', loss = 'mean_squared_error')\n",
    "    \n",
    "    es = callbacks.EarlyStopping(monitor='loss', patience=15, restore_best_weights=True)\n",
    "    regressor.fit(x, y, epochs = 6, validation_split=0.1, batch_size = 64, verbose=1, callbacks=[es])\n",
    "    return regressor\n",
    "    \n",
    "\n",
    "def Lstm_model2(x,y):\n",
    "    model=Sequential()\n",
    "    \n",
    "    model.add(LSTM(20,return_sequences=True,input_shape=(x.shape[1], x.shape[2])))\n",
    "    model.add(Dropout(0.2))\n",
    "    model.add(BatchNormalization())\n",
    "    #model.add(LSTM(15,return_sequences=True))\n",
    "    #model.add(Dropout(0.2))\n",
    "    #model.add(BatchNormalization())\n",
    "    model.add(LSTM(15))\n",
    "    model.add(Dropout(0.2))\n",
    "    model.add(BatchNormalization())\n",
    "    model.add(Dense(16, activation='relu'))\n",
    "    model.add(Dense(1))\n",
    "    \n",
    "    adam = optimizers.legacy.Adam(0.001)\n",
    "    model.compile(loss='mean_squared_error',optimizer=adam)\n",
    "    \n",
    "    es = callbacks.EarlyStopping(monitor='loss', patience=15, restore_best_weights=True)\n",
    "    model.fit(x, y,validation_split=0.2,epochs=6,batch_size=64,verbose=1, callbacks=[es])\n",
    "    return model"
   ]
  },
  {
   "cell_type": "markdown",
   "metadata": {},
   "source": [
    "<h1>Predicting</h1>"
   ]
  },
  {
   "cell_type": "code",
   "execution_count": 11,
   "metadata": {},
   "outputs": [],
   "source": [
    "# Prediction\n",
    "\n",
    "def predict_open(model,date_train,Lstm_x,df_train, future, Scale):\n",
    "    forecasting_dates=pd.date_range(list(date_train)[-1], periods=future, freq='1d').tolist()\n",
    "    predicted=model.predict(Lstm_x[-future:])\n",
    "    predicted1=np.repeat(predicted, df_train.shape[1], axis=-1)\n",
    "    predicted_descaled=Scale.inverse_transform(predicted1)[:,0]\n",
    "    return predicted_descaled,forecasting_dates\n",
    "\n",
    "def output_prep(forecasting_dates,predicted_descaled):\n",
    "    dates=[]\n",
    "    for i in forecasting_dates:\n",
    "        dates.append(i.date())\n",
    "    df_final=pd.DataFrame(columns=['Date','Open'])\n",
    "    df_final['Date']=pd.to_datetime(dates)\n",
    "    df_final['Open']=predicted_descaled\n",
    "    return df_final\n"
   ]
  },
  {
   "cell_type": "code",
   "execution_count": 12,
   "metadata": {},
   "outputs": [],
   "source": [
    "def results(df, lookback, future, Scale, x):\n",
    "    Lstm_x, Lstm_y, df_train, date_train = data_prep(df, lookback, future, Scale)\n",
    "    model=Lstm_model1(Lstm_x,Lstm_y)\n",
    "    loss=pd.DataFrame(model.history.history)\n",
    "    loss.plot()\n",
    "    future=30\n",
    "    predicted_descaled,forecasting_dates=predict_open(model,date_train,Lstm_x,df_train,future, Scale)\n",
    "    results=output_prep(forecasting_dates,predicted_descaled)   \n",
    "    print(results.head())\n",
    "    plt.show()\n",
    "    fig = px.area(results, x=\"Date\", y=\"Open\", title=x)\n",
    "    fig.update_yaxes(range=[results.Open.min()-10, results.Open.max()+10])\n",
    "    fig.show()\n",
    "    \n",
    "    return results\n"
   ]
  },
  {
   "cell_type": "code",
   "execution_count": 13,
   "metadata": {},
   "outputs": [],
   "source": [
    "def results1(df, lookback, future, Scale, x):\n",
    "    Lstm_x, Lstm_y, df_train, date_train = data_prep(df, lookback, future, Scale)\n",
    "    model=Lstm_model2(Lstm_x,Lstm_y)\n",
    "    loss=pd.DataFrame(model.history.history)\n",
    "    loss.plot()\n",
    "    future=30\n",
    "    predicted_descaled,forecasting_dates=predict_open(model,date_train,Lstm_x,df_train,future, Scale)\n",
    "    results=output_prep(forecasting_dates,predicted_descaled)   \n",
    "    print(results.head())\n",
    "    plt.show()\n",
    "    fig = px.area(results, x=\"Date\", y=\"Open\", title=x)\n",
    "    fig.update_yaxes(range=[results.Open.min()-10, results.Open.max()+10])\n",
    "    fig.show()\n",
    "    \n",
    "    return results\n",
    "    \n",
    "    "
   ]
  },
  {
   "cell_type": "markdown",
   "metadata": {},
   "source": [
    "<h1>Results</h1>"
   ]
  },
  {
   "cell_type": "code",
   "execution_count": 14,
   "metadata": {},
   "outputs": [
    {
     "name": "stdout",
     "output_type": "stream",
     "text": [
      "Epoch 1/6\n",
      "19/19 [==============================] - 7s 155ms/step - loss: 0.0277 - val_loss: 0.0082\n",
      "Epoch 2/6\n",
      "19/19 [==============================] - 3s 146ms/step - loss: 0.0046 - val_loss: 0.0069\n",
      "Epoch 3/6\n",
      "19/19 [==============================] - 2s 128ms/step - loss: 0.0030 - val_loss: 0.0063\n",
      "Epoch 4/6\n",
      "19/19 [==============================] - 2s 104ms/step - loss: 0.0029 - val_loss: 0.0032\n",
      "Epoch 5/6\n",
      "19/19 [==============================] - 2s 108ms/step - loss: 0.0029 - val_loss: 0.0099\n",
      "Epoch 6/6\n",
      "19/19 [==============================] - 2s 107ms/step - loss: 0.0028 - val_loss: 0.0054\n",
      "1/1 [==============================] - 1s 870ms/step\n",
      "        Date        Open\n",
      "0 2022-05-06  277.948547\n",
      "1 2022-05-07  278.137024\n",
      "2 2022-05-08  278.466736\n",
      "3 2022-05-09  278.934631\n",
      "4 2022-05-10  279.535919\n"
     ]
    },
    {
     "data": {
      "image/png": "[encoded data removed]",
      "text/plain": [
       "<Figure size 640x480 with 1 Axes>"
      ]
     },
     "metadata": {},
     "output_type": "display_data"
    },
    {
     "data": {
      "application/vnd.plotly.v1+json": {
       "config": {
        "plotlyServerURL": "https://plot.ly"
       },
       "data": [
        {
         "fillpattern": {
          "shape": ""
         },
         "hovertemplate": "Date=%{x}<br>Open=%{y}<extra></extra>",
         "legendgroup": "",
         "line": {
          "color": "#636efa"
         },
         "marker": {
          "symbol": "circle"
         },
         "mode": "lines",
         "name": "",
         "orientation": "v",
         "showlegend": false,
         "stackgroup": "1",
         "type": "scatter",
         "x": [
          "2022-05-06T00:00:00",
          "2022-05-07T00:00:00",
          "2022-05-08T00:00:00",
          "2022-05-09T00:00:00",
          "2022-05-10T00:00:00",
          "2022-05-11T00:00:00",
          "2022-05-12T00:00:00",
          "2022-05-13T00:00:00",
          "2022-05-14T00:00:00",
          "2022-05-15T00:00:00",
          "2022-05-16T00:00:00",
          "2022-05-17T00:00:00",
          "2022-05-18T00:00:00",
          "2022-05-19T00:00:00",
          "2022-05-20T00:00:00",
          "2022-05-21T00:00:00",
          "2022-05-22T00:00:00",
          "2022-05-23T00:00:00",
          "2022-05-24T00:00:00",
          "2022-05-25T00:00:00",
          "2022-05-26T00:00:00",
          "2022-05-27T00:00:00",
          "2022-05-28T00:00:00",
          "2022-05-29T00:00:00",
          "2022-05-30T00:00:00",
          "2022-05-31T00:00:00",
          "2022-06-01T00:00:00",
          "2022-06-02T00:00:00",
          "2022-06-03T00:00:00",
          "2022-06-04T00:00:00"
         ],
         "xaxis": "x",
         "y": [
          277.94854736328125,
          278.13702392578125,
          278.46673583984375,
          278.93463134765625,
          279.5359191894531,
          280.248291015625,
          281.0485534667969,
          281.92095947265625,
          282.8500061035156,
          283.7822265625,
          284.6739501953125,
          285.4976806640625,
          286.20465087890625,
          286.7546691894531,
          287.13385009765625,
          287.33001708984375,
          287.34423828125,
          287.1899719238281,
          286.89404296875,
          286.4754638671875,
          285.94384765625,
          285.29766845703125,
          284.5252990722656,
          283.6207580566406,
          282.6329345703125,
          281.6031799316406,
          280.5683288574219,
          279.5694274902344,
          278.6348571777344,
          277.76495361328125
         ],
         "yaxis": "y"
        }
       ],
       "layout": {
        "legend": {
         "tracegroupgap": 0
        },
        "template": {
         "data": {
          "bar": [
           {
            "error_x": {
             "color": "#2a3f5f"
            },
            "error_y": {
             "color": "#2a3f5f"
            },
            "marker": {
             "line": {
              "color": "#E5ECF6",
              "width": 0.5
             },
             "pattern": {
              "fillmode": "overlay",
              "size": 10,
              "solidity": 0.2
             }
            },
            "type": "bar"
           }
          ],
          "barpolar": [
           {
            "marker": {
             "line": {
              "color": "#E5ECF6",
              "width": 0.5
             },
             "pattern": {
              "fillmode": "overlay",
              "size": 10,
              "solidity": 0.2
             }
            },
            "type": "barpolar"
           }
          ],
          "carpet": [
           {
            "aaxis": {
             "endlinecolor": "#2a3f5f",
             "gridcolor": "white",
             "linecolor": "white",
             "minorgridcolor": "white",
             "startlinecolor": "#2a3f5f"
            },
            "baxis": {
             "endlinecolor": "#2a3f5f",
             "gridcolor": "white",
             "linecolor": "white",
             "minorgridcolor": "white",
             "startlinecolor": "#2a3f5f"
            },
            "type": "carpet"
           }
          ],
          "choropleth": [
           {
            "colorbar": {
             "outlinewidth": 0,
             "ticks": ""
            },
            "type": "choropleth"
           }
          ],
          "contour": [
           {
            "colorbar": {
             "outlinewidth": 0,
             "ticks": ""
            },
            "colorscale": [
             [
              0,
              "#0d0887"
             ],
             [
              0.1111111111111111,
              "#46039f"
             ],
             [
              0.2222222222222222,
              "#7201a8"
             ],
             [
              0.3333333333333333,
              "#9c179e"
             ],
             [
              0.4444444444444444,
              "#bd3786"
             ],
             [
              0.5555555555555556,
              "#d8576b"
             ],
             [
              0.6666666666666666,
              "#ed7953"
             ],
             [
              0.7777777777777778,
              "#fb9f3a"
             ],
             [
              0.8888888888888888,
              "#fdca26"
             ],
             [
              1,
              "#f0f921"
             ]
            ],
            "type": "contour"
           }
          ],
          "contourcarpet": [
           {
            "colorbar": {
             "outlinewidth": 0,
             "ticks": ""
            },
            "type": "contourcarpet"
           }
          ],
          "heatmap": [
           {
            "colorbar": {
             "outlinewidth": 0,
             "ticks": ""
            },
            "colorscale": [
             [
              0,
              "#0d0887"
             ],
             [
              0.1111111111111111,
              "#46039f"
             ],
             [
              0.2222222222222222,
              "#7201a8"
             ],
             [
              0.3333333333333333,
              "#9c179e"
             ],
             [
              0.4444444444444444,
              "#bd3786"
             ],
             [
              0.5555555555555556,
              "#d8576b"
             ],
             [
              0.6666666666666666,
              "#ed7953"
             ],
             [
              0.7777777777777778,
              "#fb9f3a"
             ],
             [
              0.8888888888888888,
              "#fdca26"
             ],
             [
              1,
              "#f0f921"
             ]
            ],
            "type": "heatmap"
           }
          ],
          "heatmapgl": [
           {
            "colorbar": {
             "outlinewidth": 0,
             "ticks": ""
            },
            "colorscale": [
             [
              0,
              "#0d0887"
             ],
             [
              0.1111111111111111,
              "#46039f"
             ],
             [
              0.2222222222222222,
              "#7201a8"
             ],
             [
              0.3333333333333333,
              "#9c179e"
             ],
             [
              0.4444444444444444,
              "#bd3786"
             ],
             [
              0.5555555555555556,
              "#d8576b"
             ],
             [
              0.6666666666666666,
              "#ed7953"
             ],
             [
              0.7777777777777778,
              "#fb9f3a"
             ],
             [
              0.8888888888888888,
              "#fdca26"
             ],
             [
              1,
              "#f0f921"
             ]
            ],
            "type": "heatmapgl"
           }
          ],
          "histogram": [
           {
            "marker": {
             "pattern": {
              "fillmode": "overlay",
              "size": 10,
              "solidity": 0.2
             }
            },
            "type": "histogram"
           }
          ],
          "histogram2d": [
           {
            "colorbar": {
             "outlinewidth": 0,
             "ticks": ""
            },
            "colorscale": [
             [
              0,
              "#0d0887"
             ],
             [
              0.1111111111111111,
              "#46039f"
             ],
             [
              0.2222222222222222,
              "#7201a8"
             ],
             [
              0.3333333333333333,
              "#9c179e"
             ],
             [
              0.4444444444444444,
              "#bd3786"
             ],
             [
              0.5555555555555556,
              "#d8576b"
             ],
             [
              0.6666666666666666,
              "#ed7953"
             ],
             [
              0.7777777777777778,
              "#fb9f3a"
             ],
             [
              0.8888888888888888,
              "#fdca26"
             ],
             [
              1,
              "#f0f921"
             ]
            ],
            "type": "histogram2d"
           }
          ],
          "histogram2dcontour": [
           {
            "colorbar": {
             "outlinewidth": 0,
             "ticks": ""
            },
            "colorscale": [
             [
              0,
              "#0d0887"
             ],
             [
              0.1111111111111111,
              "#46039f"
             ],
             [
              0.2222222222222222,
              "#7201a8"
             ],
             [
              0.3333333333333333,
              "#9c179e"
             ],
             [
              0.4444444444444444,
              "#bd3786"
             ],
             [
              0.5555555555555556,
              "#d8576b"
             ],
             [
              0.6666666666666666,
              "#ed7953"
             ],
             [
              0.7777777777777778,
              "#fb9f3a"
             ],
             [
              0.8888888888888888,
              "#fdca26"
             ],
             [
              1,
              "#f0f921"
             ]
            ],
            "type": "histogram2dcontour"
           }
          ],
          "mesh3d": [
           {
            "colorbar": {
             "outlinewidth": 0,
             "ticks": ""
            },
            "type": "mesh3d"
           }
          ],
          "parcoords": [
           {
            "line": {
             "colorbar": {
              "outlinewidth": 0,
              "ticks": ""
             }
            },
            "type": "parcoords"
           }
          ],
          "pie": [
           {
            "automargin": true,
            "type": "pie"
           }
          ],
          "scatter": [
           {
            "fillpattern": {
             "fillmode": "overlay",
             "size": 10,
             "solidity": 0.2
            },
            "type": "scatter"
           }
          ],
          "scatter3d": [
           {
            "line": {
             "colorbar": {
              "outlinewidth": 0,
              "ticks": ""
             }
            },
            "marker": {
             "colorbar": {
              "outlinewidth": 0,
              "ticks": ""
             }
            },
            "type": "scatter3d"
           }
          ],
          "scattercarpet": [
           {
            "marker": {
             "colorbar": {
              "outlinewidth": 0,
              "ticks": ""
             }
            },
            "type": "scattercarpet"
           }
          ],
          "scattergeo": [
           {
            "marker": {
             "colorbar": {
              "outlinewidth": 0,
              "ticks": ""
             }
            },
            "type": "scattergeo"
           }
          ],
          "scattergl": [
           {
            "marker": {
             "colorbar": {
              "outlinewidth": 0,
              "ticks": ""
             }
            },
            "type": "scattergl"
           }
          ],
          "scattermapbox": [
           {
            "marker": {
             "colorbar": {
              "outlinewidth": 0,
              "ticks": ""
             }
            },
            "type": "scattermapbox"
           }
          ],
          "scatterpolar": [
           {
            "marker": {
             "colorbar": {
              "outlinewidth": 0,
              "ticks": ""
             }
            },
            "type": "scatterpolar"
           }
          ],
          "scatterpolargl": [
           {
            "marker": {
             "colorbar": {
              "outlinewidth": 0,
              "ticks": ""
             }
            },
            "type": "scatterpolargl"
           }
          ],
          "scatterternary": [
           {
            "marker": {
             "colorbar": {
              "outlinewidth": 0,
              "ticks": ""
             }
            },
            "type": "scatterternary"
           }
          ],
          "surface": [
           {
            "colorbar": {
             "outlinewidth": 0,
             "ticks": ""
            },
            "colorscale": [
             [
              0,
              "#0d0887"
             ],
             [
              0.1111111111111111,
              "#46039f"
             ],
             [
              0.2222222222222222,
              "#7201a8"
             ],
             [
              0.3333333333333333,
              "#9c179e"
             ],
             [
              0.4444444444444444,
              "#bd3786"
             ],
             [
              0.5555555555555556,
              "#d8576b"
             ],
             [
              0.6666666666666666,
              "#ed7953"
             ],
             [
              0.7777777777777778,
              "#fb9f3a"
             ],
             [
              0.8888888888888888,
              "#fdca26"
             ],
             [
              1,
              "#f0f921"
             ]
            ],
            "type": "surface"
           }
          ],
          "table": [
           {
            "cells": {
             "fill": {
              "color": "#EBF0F8"
             },
             "line": {
              "color": "white"
             }
            },
            "header": {
             "fill": {
              "color": "#C8D4E3"
             },
             "line": {
              "color": "white"
             }
            },
            "type": "table"
           }
          ]
         },
         "layout": {
          "annotationdefaults": {
           "arrowcolor": "#2a3f5f",
           "arrowhead": 0,
           "arrowwidth": 1
          },
          "autotypenumbers": "strict",
          "coloraxis": {
           "colorbar": {
            "outlinewidth": 0,
            "ticks": ""
           }
          },
          "colorscale": {
           "diverging": [
            [
             0,
             "#8e0152"
            ],
            [
             0.1,
             "#c51b7d"
            ],
            [
             0.2,
             "#de77ae"
            ],
            [
             0.3,
             "#f1b6da"
            ],
            [
             0.4,
             "#fde0ef"
            ],
            [
             0.5,
             "#f7f7f7"
            ],
            [
             0.6,
             "#e6f5d0"
            ],
            [
             0.7,
             "#b8e186"
            ],
            [
             0.8,
             "#7fbc41"
            ],
            [
             0.9,
             "#4d9221"
            ],
            [
             1,
             "#276419"
            ]
           ],
           "sequential": [
            [
             0,
             "#0d0887"
            ],
            [
             0.1111111111111111,
             "#46039f"
            ],
            [
             0.2222222222222222,
             "#7201a8"
            ],
            [
             0.3333333333333333,
             "#9c179e"
            ],
            [
             0.4444444444444444,
             "#bd3786"
            ],
            [
             0.5555555555555556,
             "#d8576b"
            ],
            [
             0.6666666666666666,
             "#ed7953"
            ],
            [
             0.7777777777777778,
             "#fb9f3a"
            ],
            [
             0.8888888888888888,
             "#fdca26"
            ],
            [
             1,
             "#f0f921"
            ]
           ],
           "sequentialminus": [
            [
             0,
             "#0d0887"
            ],
            [
             0.1111111111111111,
             "#46039f"
            ],
            [
             0.2222222222222222,
             "#7201a8"
            ],
            [
             0.3333333333333333,
             "#9c179e"
            ],
            [
             0.4444444444444444,
             "#bd3786"
            ],
            [
             0.5555555555555556,
             "#d8576b"
            ],
            [
             0.6666666666666666,
             "#ed7953"
            ],
            [
             0.7777777777777778,
             "#fb9f3a"
            ],
            [
             0.8888888888888888,
             "#fdca26"
            ],
            [
             1,
             "#f0f921"
            ]
           ]
          },
          "colorway": [
           "#636efa",
           "#EF553B",
           "#00cc96",
           "#ab63fa",
           "#FFA15A",
           "#19d3f3",
           "#FF6692",
           "#B6E880",
           "#FF97FF",
           "#FECB52"
          ],
          "font": {
           "color": "#2a3f5f"
          },
          "geo": {
           "bgcolor": "white",
           "lakecolor": "white",
           "landcolor": "#E5ECF6",
           "showlakes": true,
           "showland": true,
           "subunitcolor": "white"
          },
          "hoverlabel": {
           "align": "left"
          },
          "hovermode": "closest",
          "mapbox": {
           "style": "light"
          },
          "paper_bgcolor": "white",
          "plot_bgcolor": "#E5ECF6",
          "polar": {
           "angularaxis": {
            "gridcolor": "white",
            "linecolor": "white",
            "ticks": ""
           },
           "bgcolor": "#E5ECF6",
           "radialaxis": {
            "gridcolor": "white",
            "linecolor": "white",
            "ticks": ""
           }
          },
          "scene": {
           "xaxis": {
            "backgroundcolor": "#E5ECF6",
            "gridcolor": "white",
            "gridwidth": 2,
            "linecolor": "white",
            "showbackground": true,
            "ticks": "",
            "zerolinecolor": "white"
           },
           "yaxis": {
            "backgroundcolor": "#E5ECF6",
            "gridcolor": "white",
            "gridwidth": 2,
            "linecolor": "white",
            "showbackground": true,
            "ticks": "",
            "zerolinecolor": "white"
           },
           "zaxis": {
            "backgroundcolor": "#E5ECF6",
            "gridcolor": "white",
            "gridwidth": 2,
            "linecolor": "white",
            "showbackground": true,
            "ticks": "",
            "zerolinecolor": "white"
           }
          },
          "shapedefaults": {
           "line": {
            "color": "#2a3f5f"
           }
          },
          "ternary": {
           "aaxis": {
            "gridcolor": "white",
            "linecolor": "white",
            "ticks": ""
           },
           "baxis": {
            "gridcolor": "white",
            "linecolor": "white",
            "ticks": ""
           },
           "bgcolor": "#E5ECF6",
           "caxis": {
            "gridcolor": "white",
            "linecolor": "white",
            "ticks": ""
           }
          },
          "title": {
           "x": 0.05
          },
          "xaxis": {
           "automargin": true,
           "gridcolor": "white",
           "linecolor": "white",
           "ticks": "",
           "title": {
            "standoff": 15
           },
           "zerolinecolor": "white",
           "zerolinewidth": 2
          },
          "yaxis": {
           "automargin": true,
           "gridcolor": "white",
           "linecolor": "white",
           "ticks": "",
           "title": {
            "standoff": 15
           },
           "zerolinecolor": "white",
           "zerolinewidth": 2
          }
         }
        },
        "title": {
         "text": "MSFT"
        },
        "xaxis": {
         "anchor": "y",
         "domain": [
          0,
          1
         ],
         "title": {
          "text": "Date"
         }
        },
        "yaxis": {
         "anchor": "x",
         "domain": [
          0,
          1
         ],
         "range": [
          267.76495361328125,
          297.34423828125
         ],
         "title": {
          "text": "Open"
         }
        }
       }
      }
     },
     "metadata": {},
     "output_type": "display_data"
    }
   ],
   "source": [
    "results = results(df, 60, 1, scaler, 'MSFT')"
   ]
  },
  {
   "cell_type": "code",
   "execution_count": 15,
   "metadata": {},
   "outputs": [
    {
     "name": "stdout",
     "output_type": "stream",
     "text": [
      "Epoch 1/6\n",
      "17/17 [==============================] - 3s 58ms/step - loss: 0.1487 - val_loss: 0.6093\n",
      "Epoch 2/6\n",
      "17/17 [==============================] - 0s 27ms/step - loss: 0.0757 - val_loss: 0.5913\n",
      "Epoch 3/6\n",
      "17/17 [==============================] - 0s 26ms/step - loss: 0.0483 - val_loss: 0.5664\n",
      "Epoch 4/6\n",
      "17/17 [==============================] - 0s 26ms/step - loss: 0.0359 - val_loss: 0.5530\n",
      "Epoch 5/6\n",
      "17/17 [==============================] - 0s 26ms/step - loss: 0.0295 - val_loss: 0.5235\n",
      "Epoch 6/6\n",
      "17/17 [==============================] - 0s 27ms/step - loss: 0.0240 - val_loss: 0.4785\n",
      "1/1 [==============================] - 0s 440ms/step\n",
      "        Date        Open\n",
      "0 2022-05-06  101.159348\n",
      "1 2022-05-07  101.222748\n",
      "2 2022-05-08  101.215012\n",
      "3 2022-05-09  101.281677\n",
      "4 2022-05-10  101.407997\n"
     ]
    },
    {
     "data": {
      "image/png": "[encoded data removed]",
      "text/plain": [
       "<Figure size 640x480 with 1 Axes>"
      ]
     },
     "metadata": {},
     "output_type": "display_data"
    },
    {
     "data": {
      "application/vnd.plotly.v1+json": {
       "config": {
        "plotlyServerURL": "https://plot.ly"
       },
       "data": [
        {
         "fillpattern": {
          "shape": ""
         },
         "hovertemplate": "Date=%{x}<br>Open=%{y}<extra></extra>",
         "legendgroup": "",
         "line": {
          "color": "#636efa"
         },
         "marker": {
          "symbol": "circle"
         },
         "mode": "lines",
         "name": "",
         "orientation": "v",
         "showlegend": false,
         "stackgroup": "1",
         "type": "scatter",
         "x": [
          "2022-05-06T00:00:00",
          "2022-05-07T00:00:00",
          "2022-05-08T00:00:00",
          "2022-05-09T00:00:00",
          "2022-05-10T00:00:00",
          "2022-05-11T00:00:00",
          "2022-05-12T00:00:00",
          "2022-05-13T00:00:00",
          "2022-05-14T00:00:00",
          "2022-05-15T00:00:00",
          "2022-05-16T00:00:00",
          "2022-05-17T00:00:00",
          "2022-05-18T00:00:00",
          "2022-05-19T00:00:00",
          "2022-05-20T00:00:00",
          "2022-05-21T00:00:00",
          "2022-05-22T00:00:00",
          "2022-05-23T00:00:00",
          "2022-05-24T00:00:00",
          "2022-05-25T00:00:00",
          "2022-05-26T00:00:00",
          "2022-05-27T00:00:00",
          "2022-05-28T00:00:00",
          "2022-05-29T00:00:00",
          "2022-05-30T00:00:00",
          "2022-05-31T00:00:00",
          "2022-06-01T00:00:00",
          "2022-06-02T00:00:00",
          "2022-06-03T00:00:00",
          "2022-06-04T00:00:00"
         ],
         "xaxis": "x",
         "y": [
          101.15934753417969,
          101.22274780273438,
          101.21501159667969,
          101.28167724609375,
          101.40799713134766,
          101.45321655273438,
          101.52381134033203,
          101.6485824584961,
          101.74708557128906,
          101.52412414550781,
          101.50821685791016,
          101.54202270507812,
          101.29436492919922,
          101.09906768798828,
          100.97735595703125,
          100.74024963378906,
          100.54056549072266,
          100.33812713623047,
          100.19373321533203,
          100.01712036132812,
          99.78941345214844,
          99.51607513427734,
          99.56397247314453,
          100.1991195678711,
          100.7119140625,
          101.01139831542969,
          101.21055603027344,
          101.2505111694336,
          101.18270874023438,
          101.17766571044922
         ],
         "yaxis": "y"
        }
       ],
       "layout": {
        "legend": {
         "tracegroupgap": 0
        },
        "template": {
         "data": {
          "bar": [
           {
            "error_x": {
             "color": "#2a3f5f"
            },
            "error_y": {
             "color": "#2a3f5f"
            },
            "marker": {
             "line": {
              "color": "#E5ECF6",
              "width": 0.5
             },
             "pattern": {
              "fillmode": "overlay",
              "size": 10,
              "solidity": 0.2
             }
            },
            "type": "bar"
           }
          ],
          "barpolar": [
           {
            "marker": {
             "line": {
              "color": "#E5ECF6",
              "width": 0.5
             },
             "pattern": {
              "fillmode": "overlay",
              "size": 10,
              "solidity": 0.2
             }
            },
            "type": "barpolar"
           }
          ],
          "carpet": [
           {
            "aaxis": {
             "endlinecolor": "#2a3f5f",
             "gridcolor": "white",
             "linecolor": "white",
             "minorgridcolor": "white",
             "startlinecolor": "#2a3f5f"
            },
            "baxis": {
             "endlinecolor": "#2a3f5f",
             "gridcolor": "white",
             "linecolor": "white",
             "minorgridcolor": "white",
             "startlinecolor": "#2a3f5f"
            },
            "type": "carpet"
           }
          ],
          "choropleth": [
           {
            "colorbar": {
             "outlinewidth": 0,
             "ticks": ""
            },
            "type": "choropleth"
           }
          ],
          "contour": [
           {
            "colorbar": {
             "outlinewidth": 0,
             "ticks": ""
            },
            "colorscale": [
             [
              0,
              "#0d0887"
             ],
             [
              0.1111111111111111,
              "#46039f"
             ],
             [
              0.2222222222222222,
              "#7201a8"
             ],
             [
              0.3333333333333333,
              "#9c179e"
             ],
             [
              0.4444444444444444,
              "#bd3786"
             ],
             [
              0.5555555555555556,
              "#d8576b"
             ],
             [
              0.6666666666666666,
              "#ed7953"
             ],
             [
              0.7777777777777778,
              "#fb9f3a"
             ],
             [
              0.8888888888888888,
              "#fdca26"
             ],
             [
              1,
              "#f0f921"
             ]
            ],
            "type": "contour"
           }
          ],
          "contourcarpet": [
           {
            "colorbar": {
             "outlinewidth": 0,
             "ticks": ""
            },
            "type": "contourcarpet"
           }
          ],
          "heatmap": [
           {
            "colorbar": {
             "outlinewidth": 0,
             "ticks": ""
            },
            "colorscale": [
             [
              0,
              "#0d0887"
             ],
             [
              0.1111111111111111,
              "#46039f"
             ],
             [
              0.2222222222222222,
              "#7201a8"
             ],
             [
              0.3333333333333333,
              "#9c179e"
             ],
             [
              0.4444444444444444,
              "#bd3786"
             ],
             [
              0.5555555555555556,
              "#d8576b"
             ],
             [
              0.6666666666666666,
              "#ed7953"
             ],
             [
              0.7777777777777778,
              "#fb9f3a"
             ],
             [
              0.8888888888888888,
              "#fdca26"
             ],
             [
              1,
              "#f0f921"
             ]
            ],
            "type": "heatmap"
           }
          ],
          "heatmapgl": [
           {
            "colorbar": {
             "outlinewidth": 0,
             "ticks": ""
            },
            "colorscale": [
             [
              0,
              "#0d0887"
             ],
             [
              0.1111111111111111,
              "#46039f"
             ],
             [
              0.2222222222222222,
              "#7201a8"
             ],
             [
              0.3333333333333333,
              "#9c179e"
             ],
             [
              0.4444444444444444,
              "#bd3786"
             ],
             [
              0.5555555555555556,
              "#d8576b"
             ],
             [
              0.6666666666666666,
              "#ed7953"
             ],
             [
              0.7777777777777778,
              "#fb9f3a"
             ],
             [
              0.8888888888888888,
              "#fdca26"
             ],
             [
              1,
              "#f0f921"
             ]
            ],
            "type": "heatmapgl"
           }
          ],
          "histogram": [
           {
            "marker": {
             "pattern": {
              "fillmode": "overlay",
              "size": 10,
              "solidity": 0.2
             }
            },
            "type": "histogram"
           }
          ],
          "histogram2d": [
           {
            "colorbar": {
             "outlinewidth": 0,
             "ticks": ""
            },
            "colorscale": [
             [
              0,
              "#0d0887"
             ],
             [
              0.1111111111111111,
              "#46039f"
             ],
             [
              0.2222222222222222,
              "#7201a8"
             ],
             [
              0.3333333333333333,
              "#9c179e"
             ],
             [
              0.4444444444444444,
              "#bd3786"
             ],
             [
              0.5555555555555556,
              "#d8576b"
             ],
             [
              0.6666666666666666,
              "#ed7953"
             ],
             [
              0.7777777777777778,
              "#fb9f3a"
             ],
             [
              0.8888888888888888,
              "#fdca26"
             ],
             [
              1,
              "#f0f921"
             ]
            ],
            "type": "histogram2d"
           }
          ],
          "histogram2dcontour": [
           {
            "colorbar": {
             "outlinewidth": 0,
             "ticks": ""
            },
            "colorscale": [
             [
              0,
              "#0d0887"
             ],
             [
              0.1111111111111111,
              "#46039f"
             ],
             [
              0.2222222222222222,
              "#7201a8"
             ],
             [
              0.3333333333333333,
              "#9c179e"
             ],
             [
              0.4444444444444444,
              "#bd3786"
             ],
             [
              0.5555555555555556,
              "#d8576b"
             ],
             [
              0.6666666666666666,
              "#ed7953"
             ],
             [
              0.7777777777777778,
              "#fb9f3a"
             ],
             [
              0.8888888888888888,
              "#fdca26"
             ],
             [
              1,
              "#f0f921"
             ]
            ],
            "type": "histogram2dcontour"
           }
          ],
          "mesh3d": [
           {
            "colorbar": {
             "outlinewidth": 0,
             "ticks": ""
            },
            "type": "mesh3d"
           }
          ],
          "parcoords": [
           {
            "line": {
             "colorbar": {
              "outlinewidth": 0,
              "ticks": ""
             }
            },
            "type": "parcoords"
           }
          ],
          "pie": [
           {
            "automargin": true,
            "type": "pie"
           }
          ],
          "scatter": [
           {
            "fillpattern": {
             "fillmode": "overlay",
             "size": 10,
             "solidity": 0.2
            },
            "type": "scatter"
           }
          ],
          "scatter3d": [
           {
            "line": {
             "colorbar": {
              "outlinewidth": 0,
              "ticks": ""
             }
            },
            "marker": {
             "colorbar": {
              "outlinewidth": 0,
              "ticks": ""
             }
            },
            "type": "scatter3d"
           }
          ],
          "scattercarpet": [
           {
            "marker": {
             "colorbar": {
              "outlinewidth": 0,
              "ticks": ""
             }
            },
            "type": "scattercarpet"
           }
          ],
          "scattergeo": [
           {
            "marker": {
             "colorbar": {
              "outlinewidth": 0,
              "ticks": ""
             }
            },
            "type": "scattergeo"
           }
          ],
          "scattergl": [
           {
            "marker": {
             "colorbar": {
              "outlinewidth": 0,
              "ticks": ""
             }
            },
            "type": "scattergl"
           }
          ],
          "scattermapbox": [
           {
            "marker": {
             "colorbar": {
              "outlinewidth": 0,
              "ticks": ""
             }
            },
            "type": "scattermapbox"
           }
          ],
          "scatterpolar": [
           {
            "marker": {
             "colorbar": {
              "outlinewidth": 0,
              "ticks": ""
             }
            },
            "type": "scatterpolar"
           }
          ],
          "scatterpolargl": [
           {
            "marker": {
             "colorbar": {
              "outlinewidth": 0,
              "ticks": ""
             }
            },
            "type": "scatterpolargl"
           }
          ],
          "scatterternary": [
           {
            "marker": {
             "colorbar": {
              "outlinewidth": 0,
              "ticks": ""
             }
            },
            "type": "scatterternary"
           }
          ],
          "surface": [
           {
            "colorbar": {
             "outlinewidth": 0,
             "ticks": ""
            },
            "colorscale": [
             [
              0,
              "#0d0887"
             ],
             [
              0.1111111111111111,
              "#46039f"
             ],
             [
              0.2222222222222222,
              "#7201a8"
             ],
             [
              0.3333333333333333,
              "#9c179e"
             ],
             [
              0.4444444444444444,
              "#bd3786"
             ],
             [
              0.5555555555555556,
              "#d8576b"
             ],
             [
              0.6666666666666666,
              "#ed7953"
             ],
             [
              0.7777777777777778,
              "#fb9f3a"
             ],
             [
              0.8888888888888888,
              "#fdca26"
             ],
             [
              1,
              "#f0f921"
             ]
            ],
            "type": "surface"
           }
          ],
          "table": [
           {
            "cells": {
             "fill": {
              "color": "#EBF0F8"
             },
             "line": {
              "color": "white"
             }
            },
            "header": {
             "fill": {
              "color": "#C8D4E3"
             },
             "line": {
              "color": "white"
             }
            },
            "type": "table"
           }
          ]
         },
         "layout": {
          "annotationdefaults": {
           "arrowcolor": "#2a3f5f",
           "arrowhead": 0,
           "arrowwidth": 1
          },
          "autotypenumbers": "strict",
          "coloraxis": {
           "colorbar": {
            "outlinewidth": 0,
            "ticks": ""
           }
          },
          "colorscale": {
           "diverging": [
            [
             0,
             "#8e0152"
            ],
            [
             0.1,
             "#c51b7d"
            ],
            [
             0.2,
             "#de77ae"
            ],
            [
             0.3,
             "#f1b6da"
            ],
            [
             0.4,
             "#fde0ef"
            ],
            [
             0.5,
             "#f7f7f7"
            ],
            [
             0.6,
             "#e6f5d0"
            ],
            [
             0.7,
             "#b8e186"
            ],
            [
             0.8,
             "#7fbc41"
            ],
            [
             0.9,
             "#4d9221"
            ],
            [
             1,
             "#276419"
            ]
           ],
           "sequential": [
            [
             0,
             "#0d0887"
            ],
            [
             0.1111111111111111,
             "#46039f"
            ],
            [
             0.2222222222222222,
             "#7201a8"
            ],
            [
             0.3333333333333333,
             "#9c179e"
            ],
            [
             0.4444444444444444,
             "#bd3786"
            ],
            [
             0.5555555555555556,
             "#d8576b"
            ],
            [
             0.6666666666666666,
             "#ed7953"
            ],
            [
             0.7777777777777778,
             "#fb9f3a"
            ],
            [
             0.8888888888888888,
             "#fdca26"
            ],
            [
             1,
             "#f0f921"
            ]
           ],
           "sequentialminus": [
            [
             0,
             "#0d0887"
            ],
            [
             0.1111111111111111,
             "#46039f"
            ],
            [
             0.2222222222222222,
             "#7201a8"
            ],
            [
             0.3333333333333333,
             "#9c179e"
            ],
            [
             0.4444444444444444,
             "#bd3786"
            ],
            [
             0.5555555555555556,
             "#d8576b"
            ],
            [
             0.6666666666666666,
             "#ed7953"
            ],
            [
             0.7777777777777778,
             "#fb9f3a"
            ],
            [
             0.8888888888888888,
             "#fdca26"
            ],
            [
             1,
             "#f0f921"
            ]
           ]
          },
          "colorway": [
           "#636efa",
           "#EF553B",
           "#00cc96",
           "#ab63fa",
           "#FFA15A",
           "#19d3f3",
           "#FF6692",
           "#B6E880",
           "#FF97FF",
           "#FECB52"
          ],
          "font": {
           "color": "#2a3f5f"
          },
          "geo": {
           "bgcolor": "white",
           "lakecolor": "white",
           "landcolor": "#E5ECF6",
           "showlakes": true,
           "showland": true,
           "subunitcolor": "white"
          },
          "hoverlabel": {
           "align": "left"
          },
          "hovermode": "closest",
          "mapbox": {
           "style": "light"
          },
          "paper_bgcolor": "white",
          "plot_bgcolor": "#E5ECF6",
          "polar": {
           "angularaxis": {
            "gridcolor": "white",
            "linecolor": "white",
            "ticks": ""
           },
           "bgcolor": "#E5ECF6",
           "radialaxis": {
            "gridcolor": "white",
            "linecolor": "white",
            "ticks": ""
           }
          },
          "scene": {
           "xaxis": {
            "backgroundcolor": "#E5ECF6",
            "gridcolor": "white",
            "gridwidth": 2,
            "linecolor": "white",
            "showbackground": true,
            "ticks": "",
            "zerolinecolor": "white"
           },
           "yaxis": {
            "backgroundcolor": "#E5ECF6",
            "gridcolor": "white",
            "gridwidth": 2,
            "linecolor": "white",
            "showbackground": true,
            "ticks": "",
            "zerolinecolor": "white"
           },
           "zaxis": {
            "backgroundcolor": "#E5ECF6",
            "gridcolor": "white",
            "gridwidth": 2,
            "linecolor": "white",
            "showbackground": true,
            "ticks": "",
            "zerolinecolor": "white"
           }
          },
          "shapedefaults": {
           "line": {
            "color": "#2a3f5f"
           }
          },
          "ternary": {
           "aaxis": {
            "gridcolor": "white",
            "linecolor": "white",
            "ticks": ""
           },
           "baxis": {
            "gridcolor": "white",
            "linecolor": "white",
            "ticks": ""
           },
           "bgcolor": "#E5ECF6",
           "caxis": {
            "gridcolor": "white",
            "linecolor": "white",
            "ticks": ""
           }
          },
          "title": {
           "x": 0.05
          },
          "xaxis": {
           "automargin": true,
           "gridcolor": "white",
           "linecolor": "white",
           "ticks": "",
           "title": {
            "standoff": 15
           },
           "zerolinecolor": "white",
           "zerolinewidth": 2
          },
          "yaxis": {
           "automargin": true,
           "gridcolor": "white",
           "linecolor": "white",
           "ticks": "",
           "title": {
            "standoff": 15
           },
           "zerolinecolor": "white",
           "zerolinewidth": 2
          }
         }
        },
        "title": {
         "text": "MSFT"
        },
        "xaxis": {
         "anchor": "y",
         "domain": [
          0,
          1
         ],
         "title": {
          "text": "Date"
         }
        },
        "yaxis": {
         "anchor": "x",
         "domain": [
          0,
          1
         ],
         "range": [
          89.51607513427734,
          111.74708557128906
         ],
         "title": {
          "text": "Open"
         }
        }
       }
      }
     },
     "metadata": {},
     "output_type": "display_data"
    }
   ],
   "source": [
    "results1 = results1(df, 60, 1, scaler, 'MSFT')"
   ]
  },
  {
   "cell_type": "code",
   "execution_count": 16,
   "metadata": {
    "id": "shgH0KRcIHvR"
   },
   "outputs": [],
   "source": [
    "# # Create the testing data set\n",
    "\n",
    "# # Array containing scaled values from index 1543 to 2003\n",
    "# test_data = scaled_data[training_data_len - 60: , :]\n",
    "\n",
    "# # Create the data sets x_test and y_test\n",
    "# x_test = []\n",
    "# y_test = dataset[training_data_len:, :]\n",
    "\n",
    "# for i in range(60, len(test_data)):\n",
    "#   x_test.append(test_data[i-60:i, 0])\n"
   ]
  },
  {
   "cell_type": "code",
   "execution_count": 17,
   "metadata": {
    "id": "dTsiW9KlI5R_"
   },
   "outputs": [],
   "source": [
    "# # Convert the data to a numpy array\n",
    "\n",
    "# x_test = np.array(x_test)\n"
   ]
  },
  {
   "cell_type": "code",
   "execution_count": 18,
   "metadata": {
    "id": "NpIlWkBFJB7Z"
   },
   "outputs": [],
   "source": [
    "# # Reshape the data\n",
    "\n",
    "# x_test = np.reshape(x_test, (x_test.shape[0], x_test.shape[1], 1))  # Num of rows, num of columns, num of features (just the close price)\n"
   ]
  },
  {
   "cell_type": "code",
   "execution_count": 19,
   "metadata": {
    "colab": {
     "base_uri": "https://localhost:8080/"
    },
    "id": "Gsh6t3FxJbaT",
    "outputId": "df78dcc5-3e53-479c-954c-edbd95096ce7"
   },
   "outputs": [],
   "source": [
    "# # Retrieve model's predicted price values\n",
    "\n",
    "# predictions = model.predict(x_test)\n",
    "# predictions.shape"
   ]
  },
  {
   "cell_type": "code",
   "execution_count": 20,
   "metadata": {
    "id": "1iKUIxJ8ZSSY"
   },
   "outputs": [],
   "source": [
    "# predictions = scaler.inverse_transform(predictions)   # Unscale predictions to compare to original closing prices (y_test)"
   ]
  },
  {
   "cell_type": "code",
   "execution_count": 21,
   "metadata": {
    "colab": {
     "base_uri": "https://localhost:8080/"
    },
    "id": "Mz37mh5GKIAP",
    "outputId": "0dd35cc1-bb31-4608-a6ef-8c1b21baadfc"
   },
   "outputs": [],
   "source": [
    "# # Evaluate root mean square error (RMSE) => Standard deviation of the residuals\n",
    "\n",
    "# rmse = np.sqrt( np.mean( predictions - y_test )**2 )\n",
    "# print(rmse)"
   ]
  },
  {
   "cell_type": "code",
   "execution_count": 22,
   "metadata": {
    "colab": {
     "base_uri": "https://localhost:8080/",
     "height": 658
    },
    "id": "5mVttJ2SKvrX",
    "outputId": "a0e118b8-b079-4c0a-d687-b8dd62d80619"
   },
   "outputs": [],
   "source": [
    "# # Plot the data\n",
    "\n",
    "# train = data[:training_data_len].copy()\n",
    "# valid = data[training_data_len:].copy()\n",
    "\n",
    "# valid['Predictions'] = predictions[:,0]\n",
    "\n",
    "# # Visualize the data\n",
    "# plt.figure(figsize=(16,8))\n",
    "# plt.title='First Predicted Day'\n",
    "# plt.xlabel('Date', fontsize=18)\n",
    "# plt.ylabel('Close Price USD ($)', fontsize=18)\n",
    "# plt.plot(train['Close'][training_data_len-10:])\n",
    "# plt.plot(valid[['Close', 'Predictions']])\n",
    "\n",
    "# plt.legend(['Train', 'Val', 'Predictions'], loc='lower right')\n",
    "# plt.show()"
   ]
  },
  {
   "cell_type": "code",
   "execution_count": 23,
   "metadata": {
    "colab": {
     "base_uri": "https://localhost:8080/",
     "height": 450
    },
    "id": "0S8Q944EO5rU",
    "outputId": "83613802-ebb3-4c74-ac6d-f9a85b3d66a9"
   },
   "outputs": [],
   "source": [
    "# # Display valid and predicted prices\n",
    "# predictions\n",
    "\n",
    "# valid"
   ]
  },
  {
   "cell_type": "code",
   "execution_count": 24,
   "metadata": {
    "colab": {
     "base_uri": "https://localhost:8080/"
    },
    "id": "fUS3FxlEPJSi",
    "outputId": "37fa1ca5-b8d0-422b-8e9a-868b3439a82a"
   },
   "outputs": [],
   "source": [
    "# # Predict closing price for ^GSPC stock on december 18, 2019\n",
    "\n",
    "# #.Retrieve actual quote\n",
    "# apple_quote=web.get_data_yahoo('MSFT', start='2012-01-01', end='2023-09-05')\n",
    "\n",
    "# # Create a new dataframe\n",
    "# new_df = apple_quote.filter(['Close'])\n",
    "\n",
    "# # Retrieve only last 60 days of data and convert to array\n",
    "# last_sixty_days = new_df[-60:].values\n",
    "\n",
    "# # Scale the data to [0:1]\n",
    "# last_sixty_days_scaled = scaler.transform(last_sixty_days)\n",
    "\n",
    "# # Initialize list\n",
    "# new_x_test = []\n",
    "# new_x_test.append(last_sixty_days_scaled)\n",
    "\n",
    "# # Convert to numpy array\n",
    "# new_x_test = np.array(new_x_test)\n",
    "\n",
    "# # Reshape\n",
    "# new_x_test = np.reshape(new_x_test, (new_x_test.shape[0], new_x_test.shape[1], 1))\n",
    "# # print(new_x_test)\n",
    "# # Calculate predictions\n",
    "# pred_price = model.predict(new_x_test)\n",
    "\n",
    "# # Rescale predictions\n",
    "# pred_price = scaler.inverse_transform(pred_price)\n",
    "\n",
    "# flattener = lambda x: x.flatten()\n",
    "# pred_price = flattener(pred_price)\n",
    "\n",
    "# print(pred_price)"
   ]
  },
  {
   "cell_type": "code",
   "execution_count": 25,
   "metadata": {
    "colab": {
     "base_uri": "https://localhost:8080/"
    },
    "id": "W1UaQ0mhl3rk",
    "outputId": "f40f8fd9-f453-4ba7-a77c-8ef0d9ceb1f0"
   },
   "outputs": [],
   "source": [
    "# # Evaluate efficacy of model\n",
    "\n",
    "# # Retrieve actual future quote data\n",
    "# actual_apple_quote=web.get_data_yahoo('MSFT', start='2023-09-06', end='2023-09-20')\n",
    "# actual_apple_quote = actual_apple_quote['Close']\n",
    "# print(actual_apple_quote)"
   ]
  },
  {
   "cell_type": "code",
   "execution_count": 26,
   "metadata": {
    "id": "yG6LcgrWyrPg"
   },
   "outputs": [],
   "source": [
    "## Below code added as of 1/1/2023"
   ]
  },
  {
   "cell_type": "code",
   "execution_count": 27,
   "metadata": {
    "colab": {
     "base_uri": "https://localhost:8080/"
    },
    "id": "Gz1WUO_fyvud",
    "outputId": "32027736-60a2-445d-e1d6-c2afe56df03d"
   },
   "outputs": [],
   "source": [
    "# # Calculate confusion matrix from actual and predicted values\n",
    "\n",
    "# y_actual = y_test\n",
    "# y_hat = predictions\n",
    "\n",
    "# overshot = 0\n",
    "# undershot = 0\n",
    "\n",
    "\n",
    "# for i in range(0, len(y_actual)):\n",
    "#   if y_actual[i] > y_hat[i]:\n",
    "#     undershot+=1\n",
    "#   else:\n",
    "#     overshot+=1\n",
    "\n",
    "\n",
    "# print(np.average(y_actual-y_hat))\n",
    "# print(overshot, undershot)\n",
    "\n"
   ]
  },
  {
   "cell_type": "code",
   "execution_count": null,
   "metadata": {
    "id": "-0sN5GuBzowA"
   },
   "outputs": [],
   "source": []
  }
 ],
 "metadata": {
  "colab": {
   "provenance": []
  },
  "kernelspec": {
   "display_name": "stocks_lstm_local-oIwf4ot9",
   "language": "python",
   "name": "python3"
  },
  "language_info": {
   "codemirror_mode": {
    "name": "ipython",
    "version": 3
   },
   "file_extension": ".py",
   "mimetype": "text/x-python",
   "name": "python",
   "nbconvert_exporter": "python",
   "pygments_lexer": "ipython3",
   "version": "3.10.1"
  }
 },
 "nbformat": 4,
 "nbformat_minor": 1
}
