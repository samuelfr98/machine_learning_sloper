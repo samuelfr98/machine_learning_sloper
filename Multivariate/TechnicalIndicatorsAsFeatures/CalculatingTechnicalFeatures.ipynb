{
 "cells": [
  {
   "cell_type": "markdown",
   "metadata": {},
   "source": [
    "# Formula Sheet for Derived Technical Indicator Features\n",
    "\n",
    "---"
   ]
  },
  {
   "cell_type": "markdown",
   "metadata": {},
   "source": [
    "This notebook will break down more complex technical indicator functions to be implemented as features in a model. Some of these feaatures require intensive computation effort for larger datasets; \n",
    "however, it is unlikely these will need to be calculated before the global notebook. This is more for practice, reference, and technical breakdown of what will be calculated at runtime.\n",
    "\n",
    "[Example Scholarly Article](https://arxiv.org/pdf/2205.06673.pdf)\n",
    "\n",
    "---"
   ]
  },
  {
   "cell_type": "markdown",
   "metadata": {},
   "source": [
    "## List of Indicators\n",
    "\n",
    "1. 10 day simple moving average (SMA) closing price\n",
    "2. 50 day simple moving average (SMA) closing price\n",
    "> *Possibly consolidate above 2 items as difference*\n",
    "3. Current volume\n",
    "4. 200 day simple moving average (SMA) volume\n",
    "> *Possibly consolidate above 2 items as difference*\n",
    "5. Weighted moving average (WMA) closing price\n",
    "6. Exponential moving average closing price\n",
    "7. Relative Strength Index (RSI)\n",
    "8. Commodity Channel Index (CCI)\n",
    "9. Accumulation Distribution (AD)\n",
    "10. Stochastic K%\n",
    "11. Stochastic D%\n",
    "12. Moving Average Convergence / Divergence (MACD)\n",
    "    \n",
    "---"
   ]
  },
  {
   "cell_type": "markdown",
   "metadata": {},
   "source": [
    "### Simple Moving Average (SMA)\n",
    "Sum of all items divided by number of items. In this context, applied to closing prices and volume over time. Sum of each daily closing price or volume over a given time range divided by the number of days in the time range.\n",
    "#### SMA = $\\Large\\frac{\\sum_{i=1}^n c_1 + c_2 + ... + c_n}{n}$\n",
    "---"
   ]
  },
  {
   "cell_type": "markdown",
   "metadata": {},
   "source": [
    "### Weighted Moving Average (WMA)\n",
    " Sum of all items with applied scaling weights divided by number of items. In this context, applied to closing prices over time. Sum of each daily closing price scaled by a decreasing multiplier over a given time range, then divided by the number of days in the time range. Provides emphasis on most recent closing prices.\n",
    " #### WMA = $\\Large\\frac{\\sum_{i=1}^n w_1c_1 + w_2c_2 + ... + w_nc_n}{n}$\n",
    "---"
   ]
  },
  {
   "cell_type": "markdown",
   "metadata": {},
   "source": [
    "### Exponential Moving Average (EMA)\n",
    "\n",
    "> Built in function in Pandas and SciKit!\n",
    " \n",
    "Sum of all items divided by number of items. In this context, applied to closing prices and volume over time. Sum of each daily closing price or volume over a given time range divided by the number of days in the time range.\n",
    " #### EMA = $c_{today}\\frac{2}{1 + N_{today}} + EMA_{yesterday}(1 - \\frac{2}{1 + N_{yesterday}})$\n",
    "---"
   ]
  },
  {
   "cell_type": "markdown",
   "metadata": {},
   "source": [
    "### Relative Strength Index (RSI)\n",
    " \n",
    "Oscillates on a scale of 0 to 100. Involves comparing average gain during up periods vs. average loss during down periods.\n",
    "\n",
    " #### RSI = $100 - [\\large\\frac{100}{1+\\frac{gain_{avg}}{loss_{avg}}}]$\n",
    "---"
   ]
  },
  {
   "cell_type": "markdown",
   "metadata": {},
   "source": [
    "### Commodaity Channel Index (CCI)\n",
    " \n",
    "Description\n",
    "\n",
    " #### CCI = $math$\n",
    "---"
   ]
  },
  {
   "cell_type": "markdown",
   "metadata": {},
   "source": [
    "### Accumulation Distribution (AD)\n",
    " \n",
    "Description\n",
    "\n",
    " #### AD = $math$\n",
    "---"
   ]
  },
  {
   "cell_type": "markdown",
   "metadata": {},
   "source": [
    "### Stochastic K%\n",
    " \n",
    "Description\n",
    "\n",
    " #### K = $math$\n",
    "---"
   ]
  },
  {
   "cell_type": "markdown",
   "metadata": {},
   "source": [
    "### Moving Average Convergence / Divergence (MACD)\n",
    " \n",
    "Description\n",
    "\n",
    " #### MACD = $math$\n",
    "---"
   ]
  }
 ],
 "metadata": {
  "kernelspec": {
   "display_name": "stocks_lstm_local-oIwf4ot9",
   "language": "python",
   "name": "python3"
  },
  "language_info": {
   "codemirror_mode": {
    "name": "ipython",
    "version": 3
   },
   "file_extension": ".py",
   "mimetype": "text/x-python",
   "name": "python",
   "nbconvert_exporter": "python",
   "pygments_lexer": "ipython3",
   "version": "3.10.1"
  }
 },
 "nbformat": 4,
 "nbformat_minor": 2
}
