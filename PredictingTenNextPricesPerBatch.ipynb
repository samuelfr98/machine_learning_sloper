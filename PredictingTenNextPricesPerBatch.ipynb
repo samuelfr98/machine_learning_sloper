{
 "cells": [
  {
   "cell_type": "code",
   "execution_count": 30,
   "metadata": {
    "id": "TsbMThJuBo95"
   },
   "outputs": [],
   "source": [
    "## Long Short Term Memory (LSTM) Recurrent Neural Network (RNN)\n",
    "## This video was guided by the following tutorial: https://www.youtube.com/watch?v=QIUxPv5PJOY\n",
    "\n",
    "## This program considers the past 60 day stock price for predictions."
   ]
  },
  {
   "cell_type": "code",
   "execution_count": 31,
   "metadata": {
    "colab": {
     "base_uri": "https://localhost:8080/"
    },
    "id": "UCLzkNONnzzn",
    "outputId": "eb31934e-2a7b-4cf0-fdab-c99f96ccb937"
   },
   "outputs": [],
   "source": [
    "# !pip install --upgrade pandas-datareader\n",
    "# !pip install yfinance"
   ]
  },
  {
   "cell_type": "code",
   "execution_count": 32,
   "metadata": {
    "id": "tTDVN6TyjaDP"
   },
   "outputs": [],
   "source": [
    "# Importing relevant libraries\n",
    "\n",
    "import math\n",
    "import pandas_datareader.data as web\n",
    "import numpy as np\n",
    "import pandas as pd\n",
    "from sklearn.preprocessing import MinMaxScaler\n",
    "from keras.models import Sequential\n",
    "from keras.layers import Dense, LSTM\n",
    "import matplotlib.pyplot as plt\n",
    "plt.style.use('fivethirtyeight')"
   ]
  },
  {
   "cell_type": "code",
   "execution_count": 33,
   "metadata": {
    "colab": {
     "base_uri": "https://localhost:8080/",
     "height": 467
    },
    "id": "b8PmvzZSl5oe",
    "outputId": "8cb6c8da-6f35-4e95-b78d-a813eb778e61"
   },
   "outputs": [
    {
     "name": "stdout",
     "output_type": "stream",
     "text": [
      "[*********************100%%**********************]  1 of 1 completed\n"
     ]
    },
    {
     "data": {
      "text/html": [
       "<div>\n",
       "<style scoped>\n",
       "    .dataframe tbody tr th:only-of-type {\n",
       "        vertical-align: middle;\n",
       "    }\n",
       "\n",
       "    .dataframe tbody tr th {\n",
       "        vertical-align: top;\n",
       "    }\n",
       "\n",
       "    .dataframe thead th {\n",
       "        text-align: right;\n",
       "    }\n",
       "</style>\n",
       "<table border=\"1\" class=\"dataframe\">\n",
       "  <thead>\n",
       "    <tr style=\"text-align: right;\">\n",
       "      <th></th>\n",
       "      <th>Open</th>\n",
       "      <th>High</th>\n",
       "      <th>Low</th>\n",
       "      <th>Close</th>\n",
       "      <th>Adj Close</th>\n",
       "      <th>Volume</th>\n",
       "    </tr>\n",
       "    <tr>\n",
       "      <th>Date</th>\n",
       "      <th></th>\n",
       "      <th></th>\n",
       "      <th></th>\n",
       "      <th></th>\n",
       "      <th></th>\n",
       "      <th></th>\n",
       "    </tr>\n",
       "  </thead>\n",
       "  <tbody>\n",
       "    <tr>\n",
       "      <th>2017-01-03</th>\n",
       "      <td>62.790001</td>\n",
       "      <td>62.840000</td>\n",
       "      <td>62.130001</td>\n",
       "      <td>62.580002</td>\n",
       "      <td>57.138729</td>\n",
       "      <td>20694100</td>\n",
       "    </tr>\n",
       "    <tr>\n",
       "      <th>2017-01-04</th>\n",
       "      <td>62.480000</td>\n",
       "      <td>62.750000</td>\n",
       "      <td>62.119999</td>\n",
       "      <td>62.299999</td>\n",
       "      <td>56.883068</td>\n",
       "      <td>21340000</td>\n",
       "    </tr>\n",
       "    <tr>\n",
       "      <th>2017-01-05</th>\n",
       "      <td>62.189999</td>\n",
       "      <td>62.660000</td>\n",
       "      <td>62.029999</td>\n",
       "      <td>62.299999</td>\n",
       "      <td>56.883068</td>\n",
       "      <td>24876000</td>\n",
       "    </tr>\n",
       "    <tr>\n",
       "      <th>2017-01-06</th>\n",
       "      <td>62.299999</td>\n",
       "      <td>63.150002</td>\n",
       "      <td>62.040001</td>\n",
       "      <td>62.840000</td>\n",
       "      <td>57.376133</td>\n",
       "      <td>19922900</td>\n",
       "    </tr>\n",
       "    <tr>\n",
       "      <th>2017-01-09</th>\n",
       "      <td>62.759998</td>\n",
       "      <td>63.080002</td>\n",
       "      <td>62.540001</td>\n",
       "      <td>62.639999</td>\n",
       "      <td>57.193512</td>\n",
       "      <td>20382700</td>\n",
       "    </tr>\n",
       "    <tr>\n",
       "      <th>...</th>\n",
       "      <td>...</td>\n",
       "      <td>...</td>\n",
       "      <td>...</td>\n",
       "      <td>...</td>\n",
       "      <td>...</td>\n",
       "      <td>...</td>\n",
       "    </tr>\n",
       "    <tr>\n",
       "      <th>2023-09-01</th>\n",
       "      <td>331.309998</td>\n",
       "      <td>331.989990</td>\n",
       "      <td>326.779999</td>\n",
       "      <td>328.660004</td>\n",
       "      <td>327.994293</td>\n",
       "      <td>14931200</td>\n",
       "    </tr>\n",
       "    <tr>\n",
       "      <th>2023-09-05</th>\n",
       "      <td>329.000000</td>\n",
       "      <td>334.850006</td>\n",
       "      <td>328.660004</td>\n",
       "      <td>333.549988</td>\n",
       "      <td>332.874359</td>\n",
       "      <td>18553900</td>\n",
       "    </tr>\n",
       "    <tr>\n",
       "      <th>2023-09-06</th>\n",
       "      <td>333.380005</td>\n",
       "      <td>334.459991</td>\n",
       "      <td>330.179993</td>\n",
       "      <td>332.880005</td>\n",
       "      <td>332.205750</td>\n",
       "      <td>17535800</td>\n",
       "    </tr>\n",
       "    <tr>\n",
       "      <th>2023-09-07</th>\n",
       "      <td>331.290009</td>\n",
       "      <td>333.079987</td>\n",
       "      <td>329.029999</td>\n",
       "      <td>329.910004</td>\n",
       "      <td>329.241760</td>\n",
       "      <td>18381000</td>\n",
       "    </tr>\n",
       "    <tr>\n",
       "      <th>2023-09-08</th>\n",
       "      <td>330.089996</td>\n",
       "      <td>336.160004</td>\n",
       "      <td>329.459991</td>\n",
       "      <td>334.269989</td>\n",
       "      <td>333.592896</td>\n",
       "      <td>19530100</td>\n",
       "    </tr>\n",
       "  </tbody>\n",
       "</table>\n",
       "<p>1682 rows × 6 columns</p>\n",
       "</div>"
      ],
      "text/plain": [
       "                  Open        High         Low       Close   Adj Close  \\\n",
       "Date                                                                     \n",
       "2017-01-03   62.790001   62.840000   62.130001   62.580002   57.138729   \n",
       "2017-01-04   62.480000   62.750000   62.119999   62.299999   56.883068   \n",
       "2017-01-05   62.189999   62.660000   62.029999   62.299999   56.883068   \n",
       "2017-01-06   62.299999   63.150002   62.040001   62.840000   57.376133   \n",
       "2017-01-09   62.759998   63.080002   62.540001   62.639999   57.193512   \n",
       "...                ...         ...         ...         ...         ...   \n",
       "2023-09-01  331.309998  331.989990  326.779999  328.660004  327.994293   \n",
       "2023-09-05  329.000000  334.850006  328.660004  333.549988  332.874359   \n",
       "2023-09-06  333.380005  334.459991  330.179993  332.880005  332.205750   \n",
       "2023-09-07  331.290009  333.079987  329.029999  329.910004  329.241760   \n",
       "2023-09-08  330.089996  336.160004  329.459991  334.269989  333.592896   \n",
       "\n",
       "              Volume  \n",
       "Date                  \n",
       "2017-01-03  20694100  \n",
       "2017-01-04  21340000  \n",
       "2017-01-05  24876000  \n",
       "2017-01-06  19922900  \n",
       "2017-01-09  20382700  \n",
       "...              ...  \n",
       "2023-09-01  14931200  \n",
       "2023-09-05  18553900  \n",
       "2023-09-06  17535800  \n",
       "2023-09-07  18381000  \n",
       "2023-09-08  19530100  \n",
       "\n",
       "[1682 rows x 6 columns]"
      ]
     },
     "execution_count": 33,
     "metadata": {},
     "output_type": "execute_result"
    }
   ],
   "source": [
    "# Retrieve stock quotes\n",
    "\n",
    "import yfinance as yf\n",
    "yf.pdr_override()\n",
    "\n",
    "df = web.get_data_yahoo('MSFT', start='2017-01-01', end='2023-09-10')\n",
    "\n",
    "# Display data\n",
    "df"
   ]
  },
  {
   "cell_type": "code",
   "execution_count": 34,
   "metadata": {
    "colab": {
     "base_uri": "https://localhost:8080/"
    },
    "id": "uPHPvOJAp82t",
    "outputId": "95339a2e-193a-4f30-91b8-cc557fdac7fd"
   },
   "outputs": [
    {
     "data": {
      "text/plain": [
       "(1682, 6)"
      ]
     },
     "execution_count": 34,
     "metadata": {},
     "output_type": "execute_result"
    }
   ],
   "source": [
    "# Retrieve matrix dimensions\n",
    "\n",
    "df.shape"
   ]
  },
  {
   "cell_type": "code",
   "execution_count": 35,
   "metadata": {
    "colab": {
     "base_uri": "https://localhost:8080/",
     "height": 658
    },
    "id": "oP-B5BP4qPG9",
    "outputId": "9fef549b-33ed-414a-ceec-999ffe1c9715"
   },
   "outputs": [
    {
     "data": {
      "image/png": "[encoded data removed]",
      "text/plain": [
       "<Figure size 1600x800 with 1 Axes>"
      ]
     },
     "metadata": {},
     "output_type": "display_data"
    }
   ],
   "source": [
    "# Visualize the closing price\n",
    "\n",
    "plt.figure(figsize=(16,8))\n",
    "plt.title='Close Price History'\n",
    "plt.plot(df['Close'])\n",
    "plt.xlabel('Date', fontsize=18)\n",
    "plt.ylabel('Close Price ($USD)', fontsize=18)\n",
    "\n",
    "plt.show()"
   ]
  },
  {
   "cell_type": "code",
   "execution_count": 36,
   "metadata": {
    "colab": {
     "base_uri": "https://localhost:8080/"
    },
    "id": "2Rjgh0v7rNsa",
    "outputId": "80949317-d77d-4e56-afc8-513ce657f0f7"
   },
   "outputs": [
    {
     "name": "stdout",
     "output_type": "stream",
     "text": [
      "1346\n"
     ]
    }
   ],
   "source": [
    "# Create a new dataframe with only closing prices\n",
    "\n",
    "data = df.filter(['Close'])\n",
    "\n",
    "# Convert dataframe to a numpy array\n",
    "dataset = data.values\n",
    "\n",
    "# Compute row count to train the model on => 80% of data for training\n",
    "training_data_len = math.ceil(len(dataset) * 0.8)\n",
    "print(training_data_len)"
   ]
  },
  {
   "cell_type": "code",
   "execution_count": 37,
   "metadata": {
    "colab": {
     "base_uri": "https://localhost:8080/"
    },
    "id": "COVH-eL_r-6p",
    "outputId": "efb7f270-6cac-451d-b8ef-69a306c389cf"
   },
   "outputs": [
    {
     "data": {
      "text/plain": [
       "array([[0.00094217],\n",
       "       [0.        ],\n",
       "       [0.        ],\n",
       "       ...,\n",
       "       [0.91046137],\n",
       "       [0.90046776],\n",
       "       [0.91513846]])"
      ]
     },
     "execution_count": 37,
     "metadata": {},
     "output_type": "execute_result"
    }
   ],
   "source": [
    "# Scale the data for preprocessing\n",
    "\n",
    "scaler = MinMaxScaler(feature_range=(0,1))\n",
    "scaled_data = scaler.fit_transform(dataset)   # Computes min and max values for scaling, then transforms. Standardizes data from 0 to 1 inclusive\n",
    "\n",
    "scaled_data"
   ]
  },
  {
   "cell_type": "code",
   "execution_count": 39,
   "metadata": {
    "colab": {
     "base_uri": "https://localhost:8080/"
    },
    "id": "bRSny7-3si4R",
    "outputId": "fa198984-434e-44b4-b6b0-9ab8070870ac"
   },
   "outputs": [
    {
     "ename": "IndexError",
     "evalue": "index 69 is out of bounds for axis 1 with size 1",
     "output_type": "error",
     "traceback": [
      "\u001b[0;31m---------------------------------------------------------------------------\u001b[0m",
      "\u001b[0;31mIndexError\u001b[0m                                Traceback (most recent call last)",
      "Cell \u001b[0;32mIn[39], line 12\u001b[0m\n\u001b[1;32m     10\u001b[0m \u001b[38;5;28;01mfor\u001b[39;00m i \u001b[38;5;129;01min\u001b[39;00m \u001b[38;5;28mrange\u001b[39m(\u001b[38;5;241m60\u001b[39m, \u001b[38;5;28mlen\u001b[39m(train_data)):\n\u001b[1;32m     11\u001b[0m   x_train\u001b[38;5;241m.\u001b[39mappend(train_data[i\u001b[38;5;241m-\u001b[39m\u001b[38;5;241m60\u001b[39m:i, \u001b[38;5;241m0\u001b[39m])   \u001b[38;5;66;03m# Positions 0 to 59\u001b[39;00m\n\u001b[0;32m---> 12\u001b[0m   y_train\u001b[38;5;241m.\u001b[39mappend([\u001b[43mtrain_data\u001b[49m\u001b[43m[\u001b[49m\u001b[43mi\u001b[49m\u001b[43m,\u001b[49m\u001b[43m \u001b[49m\u001b[43mi\u001b[49m\u001b[38;5;241;43m+\u001b[39;49m\u001b[38;5;241;43m9\u001b[39;49m\u001b[43m]\u001b[49m])        \u001b[38;5;66;03m# Position 60:69\u001b[39;00m\n",
      "\u001b[0;31mIndexError\u001b[0m: index 69 is out of bounds for axis 1 with size 1"
     ]
    }
   ],
   "source": [
    "# Create the training data set\n",
    "\n",
    "# Create the scaled training data set\n",
    "train_data = scaled_data[0:training_data_len, :]\n",
    "\n",
    "# Split data into x_train and y_train data sets\n",
    "x_train = []\n",
    "y_train = []\n",
    "\n",
    "for i in range(60, len(train_data)):\n",
    "  x_train.append(train_data[i-60:i, 0])   # Positions 0 to 59\n",
    "  y_train.append([train_data[i: i+9]])        # Position 60:69\n"
   ]
  },
  {
   "cell_type": "code",
   "execution_count": null,
   "metadata": {
    "id": "M2Jn9lx0tqMC"
   },
   "outputs": [],
   "source": [
    "# Convert x_train and y_train to numpy arrays\n",
    "\n",
    "x_train, y_train = np.array(x_train), np.array(y_train)"
   ]
  },
  {
   "cell_type": "code",
   "execution_count": null,
   "metadata": {
    "colab": {
     "base_uri": "https://localhost:8080/"
    },
    "id": "2SQj47mYuR-B",
    "outputId": "0c983602-25c4-4db3-d18f-468b0751ee73"
   },
   "outputs": [],
   "source": [
    "# Reshape the x_train data set => Add third column\n",
    "\n",
    "x_train = np.reshape(x_train, (x_train.shape[0], x_train.shape[1], 1))\n",
    "x_train.shape"
   ]
  },
  {
   "cell_type": "code",
   "execution_count": null,
   "metadata": {
    "id": "cw_lU62uusE7"
   },
   "outputs": [],
   "source": [
    "# Build the LSTM Model\n",
    "\n",
    "model = Sequential()\n",
    "model.add(LSTM(64, return_sequences=True, input_shape=(x_train.shape[1], 1)))\n",
    "model.add(LSTM(64, return_sequences=False)) \n",
    "model.add(Dense(32))\n",
    "\n",
    "# model.add(Dense(1))\n",
    "model.add(Dense(10))\n"
   ]
  },
  {
   "cell_type": "code",
   "execution_count": null,
   "metadata": {
    "id": "mvBaSMlrvw--"
   },
   "outputs": [],
   "source": [
    "# Compile the model\n",
    "\n",
    "# model.compile(optimizer='adam', loss='mean_squared_error')\n",
    "model.compile(optimizer='adam', loss='mean_absolute_error')\n",
    "\n"
   ]
  },
  {
   "cell_type": "code",
   "execution_count": null,
   "metadata": {
    "colab": {
     "base_uri": "https://localhost:8080/"
    },
    "id": "xjMvOslJHmMW",
    "outputId": "936bc56d-dec3-4998-d894-941cbe476a01"
   },
   "outputs": [],
   "source": [
    "# Train the model\n",
    "\n",
    "model.fit(x_train, y_train, batch_size=1, epochs=4)"
   ]
  },
  {
   "cell_type": "code",
   "execution_count": null,
   "metadata": {
    "id": "shgH0KRcIHvR"
   },
   "outputs": [],
   "source": [
    "# Create the testing data set\n",
    "\n",
    "# Array containing scaled values from index 1543 to 2003\n",
    "test_data = scaled_data[training_data_len - 60: , :]\n",
    "\n",
    "# Create the data sets x_test and y_test\n",
    "x_test = []\n",
    "y_test = dataset[training_data_len:, :]\n",
    "\n",
    "for i in range(60, len(test_data)):\n",
    "  x_test.append(test_data[i-60:i, 0])\n"
   ]
  },
  {
   "cell_type": "code",
   "execution_count": null,
   "metadata": {
    "id": "dTsiW9KlI5R_"
   },
   "outputs": [],
   "source": [
    "# Convert the data to a numpy array\n",
    "\n",
    "x_test = np.array(x_test)\n"
   ]
  },
  {
   "cell_type": "code",
   "execution_count": null,
   "metadata": {
    "id": "NpIlWkBFJB7Z"
   },
   "outputs": [],
   "source": [
    "# Reshape the data\n",
    "\n",
    "x_test = np.reshape(x_test, (x_test.shape[0], x_test.shape[1], 1))  # Num of rows, num of columns, num of features (just the close price)\n"
   ]
  },
  {
   "cell_type": "code",
   "execution_count": null,
   "metadata": {
    "colab": {
     "base_uri": "https://localhost:8080/"
    },
    "id": "Gsh6t3FxJbaT",
    "outputId": "df78dcc5-3e53-479c-954c-edbd95096ce7"
   },
   "outputs": [],
   "source": [
    "# Retrieve model's predicted price values\n",
    "\n",
    "predictions = model.predict(x_test)\n",
    "predictions.shape"
   ]
  },
  {
   "cell_type": "code",
   "execution_count": null,
   "metadata": {
    "id": "1iKUIxJ8ZSSY"
   },
   "outputs": [],
   "source": [
    "predictions = scaler.inverse_transform(predictions)   # Unscale predictions to compare to original closing prices (y_test)"
   ]
  },
  {
   "cell_type": "code",
   "execution_count": null,
   "metadata": {
    "colab": {
     "base_uri": "https://localhost:8080/"
    },
    "id": "Mz37mh5GKIAP",
    "outputId": "0dd35cc1-bb31-4608-a6ef-8c1b21baadfc"
   },
   "outputs": [],
   "source": [
    "# Evaluate root mean square error (RMSE) => Standard deviation of the residuals\n",
    "\n",
    "rmse = np.sqrt( np.mean( predictions - y_test )**2 )\n",
    "print(rmse)"
   ]
  },
  {
   "cell_type": "code",
   "execution_count": null,
   "metadata": {
    "colab": {
     "base_uri": "https://localhost:8080/",
     "height": 658
    },
    "id": "5mVttJ2SKvrX",
    "outputId": "a0e118b8-b079-4c0a-d687-b8dd62d80619"
   },
   "outputs": [],
   "source": [
    "# Plot the data\n",
    "\n",
    "train = data[:training_data_len].copy()\n",
    "valid = data[training_data_len:].copy()\n",
    "\n",
    "valid['Predictions'] = predictions[:,0]\n",
    "\n",
    "# Visualize the data\n",
    "plt.figure(figsize=(16,8))\n",
    "plt.title='First Predicted Day'\n",
    "plt.xlabel('Date', fontsize=18)\n",
    "plt.ylabel('Close Price USD ($)', fontsize=18)\n",
    "plt.plot(train['Close'][training_data_len-10:])\n",
    "plt.plot(valid[['Close', 'Predictions']])\n",
    "\n",
    "plt.legend(['Train', 'Val', 'Predictions'], loc='lower right')\n",
    "plt.show()"
   ]
  },
  {
   "cell_type": "code",
   "execution_count": null,
   "metadata": {
    "colab": {
     "base_uri": "https://localhost:8080/",
     "height": 450
    },
    "id": "0S8Q944EO5rU",
    "outputId": "83613802-ebb3-4c74-ac6d-f9a85b3d66a9"
   },
   "outputs": [],
   "source": [
    "# Display valid and predicted prices\n",
    "predictions\n",
    "\n",
    "valid"
   ]
  },
  {
   "cell_type": "code",
   "execution_count": null,
   "metadata": {
    "colab": {
     "base_uri": "https://localhost:8080/"
    },
    "id": "fUS3FxlEPJSi",
    "outputId": "37fa1ca5-b8d0-422b-8e9a-868b3439a82a"
   },
   "outputs": [],
   "source": [
    "# Predict closing price for ^GSPC stock on december 18, 2019\n",
    "\n",
    "#.Retrieve actual quote\n",
    "apple_quote=web.get_data_yahoo('MSFT', start='2012-01-01', end='2023-09-05')\n",
    "\n",
    "# Create a new dataframe\n",
    "new_df = apple_quote.filter(['Close'])\n",
    "\n",
    "# Retrieve only last 60 days of data and convert to array\n",
    "last_sixty_days = new_df[-60:].values\n",
    "\n",
    "# Scale the data to [0:1]\n",
    "last_sixty_days_scaled = scaler.transform(last_sixty_days)\n",
    "\n",
    "# Initialize list\n",
    "new_x_test = []\n",
    "new_x_test.append(last_sixty_days_scaled)\n",
    "\n",
    "# Convert to numpy array\n",
    "new_x_test = np.array(new_x_test)\n",
    "\n",
    "# Reshape\n",
    "new_x_test = np.reshape(new_x_test, (new_x_test.shape[0], new_x_test.shape[1], 1))\n",
    "print(new_x_test)\n",
    "# Calculate predictions\n",
    "pred_price = model.predict(new_x_test)\n",
    "\n",
    "# Rescale predictions\n",
    "pred_price = scaler.inverse_transform(pred_price)\n",
    "\n",
    "\n",
    "print(pred_price)"
   ]
  },
  {
   "cell_type": "code",
   "execution_count": null,
   "metadata": {
    "colab": {
     "base_uri": "https://localhost:8080/"
    },
    "id": "W1UaQ0mhl3rk",
    "outputId": "f40f8fd9-f453-4ba7-a77c-8ef0d9ceb1f0"
   },
   "outputs": [],
   "source": [
    "# Evaluate efficacy of model\n",
    "\n",
    "# Retrieve actual future quote data\n",
    "actual_apple_quote=web.get_data_yahoo('MSFT', start='2023-09-05', end='2023-09-20')\n",
    "print(actual_apple_quote['Close'])"
   ]
  },
  {
   "cell_type": "code",
   "execution_count": null,
   "metadata": {
    "id": "yG6LcgrWyrPg"
   },
   "outputs": [],
   "source": [
    "## Below code added as of 1/1/2023"
   ]
  },
  {
   "cell_type": "code",
   "execution_count": null,
   "metadata": {
    "colab": {
     "base_uri": "https://localhost:8080/"
    },
    "id": "Gz1WUO_fyvud",
    "outputId": "32027736-60a2-445d-e1d6-c2afe56df03d"
   },
   "outputs": [],
   "source": [
    "# Calculate confusion matrix from actual and predicted values\n",
    "\n",
    "y_actual = y_test\n",
    "y_hat = predictions\n",
    "\n",
    "overshot = 0\n",
    "undershot = 0\n",
    "\n",
    "\n",
    "for i in range(0, len(y_actual)):\n",
    "  if y_actual[i] > y_hat[i]:\n",
    "    undershot+=1\n",
    "  else:\n",
    "    overshot+=1\n",
    "\n",
    "\n",
    "print(np.average(y_actual-y_hat))\n",
    "print(overshot, undershot)\n",
    "\n"
   ]
  },
  {
   "cell_type": "code",
   "execution_count": null,
   "metadata": {
    "id": "-0sN5GuBzowA"
   },
   "outputs": [],
   "source": []
  }
 ],
 "metadata": {
  "colab": {
   "provenance": []
  },
  "kernelspec": {
   "display_name": "stocks_lstm_local-oIwf4ot9",
   "language": "python",
   "name": "python3"
  },
  "language_info": {
   "codemirror_mode": {
    "name": "ipython",
    "version": 3
   },
   "file_extension": ".py",
   "mimetype": "text/x-python",
   "name": "python",
   "nbconvert_exporter": "python",
   "pygments_lexer": "ipython3",
   "version": "3.10.1"
  }
 },
 "nbformat": 4,
 "nbformat_minor": 1
}
