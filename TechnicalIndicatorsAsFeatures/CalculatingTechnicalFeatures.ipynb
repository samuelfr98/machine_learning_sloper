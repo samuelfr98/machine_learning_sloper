{
 "cells": [
  {
   "cell_type": "markdown",
   "metadata": {},
   "source": [
    "# Formula Sheet for Derived Technical Indicator Features\n",
    "\n",
    "---"
   ]
  },
  {
   "cell_type": "markdown",
   "metadata": {},
   "source": [
    "This notebook will break down more complex technical indicator functions to be implemented as features in a model. Some of these feaatures require intensive computation effort for larger datasets; \n",
    "however, it is unlikely these will need to be calculated before the global notebook. This is more for practice, reference, and technical breakdown of what will be calculated at runtime.\n",
    "\n",
    "[Example Scholarly Article](https://arxiv.org/pdf/2205.06673.pdf) \n",
    "\n",
    "---"
   ]
  },
  {
   "cell_type": "markdown",
   "metadata": {},
   "source": [
    "## List of Indicators\n",
    "\n",
    "1. [10 day simple moving average (SMA) closing price](#Simple-Moving-Average-(SMA))\n",
    "2. [50 day simple moving average (SMA) closing price](#Simple-Moving-Average-(SMA))\n",
    "> *Possibly consolidate above 2 items as difference*\n",
    "3. Current volume\n",
    "4. [200 day simple moving average (SMA) volume](#Simple-Moving-Average-(SMA))\n",
    "> *Possibly consolidate above 2 items as difference*\n",
    "5. [Weighted moving average (WMA) closing price](#Weighted-Moving-Average-(WMA))\n",
    "6. [Exponential moving average closing price](#Exponential-Moving-Average-(EMA))\n",
    "7. [Relative Strength Index (RSI)](#Relative-Strength-Index-(RSI))\n",
    "8. [Commodity Channel Index (CCI)](#Commodity-Channel-Index-(CCI))\n",
    "9. [Accumulation Distribution (AD)](#Accumulation-Distribution-(AD))\n",
    "10.  [Stochastic K%](#Stochastic-K-Percent)\n",
    "11.  [Stochastic D%](#Stochastic-D-Percent)\n",
    "12.  [Moving Average Convergence \\ Divergence (MACD)](#Moving-Average-Convergence-\\-Divergence-(MACD))\n",
    "    \n",
    "---"
   ]
  },
  {
   "cell_type": "markdown",
   "metadata": {},
   "source": [
    "### Simple Moving Average (SMA)\n",
    "Sum of all items divided by number of items. In this context, applied to closing prices and volume over time. Sum of each daily closing price or volume over a given time range divided by the number of days in the time range.\n",
    "#### SMA = $\\Large\\frac{\\sum_{i=1}^n c_1 + c_2 + ... + c_n}{n}$\n",
    "---"
   ]
  },
  {
   "cell_type": "code",
   "execution_count": 26,
   "metadata": {},
   "outputs": [],
   "source": [
    "# SMA\n",
    "\n",
    "import numpy as np\n",
    "\n",
    "def simple_moving_average(arr):\n",
    "    output = np.average(arr)\n",
    "    print(\"SMA is: \", output)\n",
    "    return output\n"
   ]
  },
  {
   "cell_type": "markdown",
   "metadata": {},
   "source": [
    "### Weighted Moving Average (WMA)\n",
    " Sum of all items with applied scaling weights divided by number of items. In this context, applied to closing prices over time. Sum of each daily closing price scaled by a decreasing multiplier over a given time range, then divided by the number of days in the time range. Provides emphasis on most recent closing prices.\n",
    " #### WMA = $\\Large\\frac{\\sum_{i=1}^n w_1c_1 + w_2c_2 + ... + w_nc_n}{n}$\n",
    "---"
   ]
  },
  {
   "cell_type": "code",
   "execution_count": 29,
   "metadata": {},
   "outputs": [
    {
     "name": "stdout",
     "output_type": "stream",
     "text": [
      "WMA is:  7.0\n",
      "SMA is:  38.4\n"
     ]
    },
    {
     "data": {
      "text/plain": [
       "38.4"
      ]
     },
     "execution_count": 29,
     "metadata": {},
     "output_type": "execute_result"
    }
   ],
   "source": [
    "# WMA\n",
    "\n",
    "import numpy as np\n",
    "\n",
    "def weighted_moving_average(arr):\n",
    "    calculated_weights = np.arange(1, len(arr) + 1)\n",
    "    output = np.average(arr, weights=calculated_weights)    ## Not working as expected\n",
    "    print(\"WMA is: \", output)\n",
    "    return output\n",
    "\n",
    "weighted_moving_average([1,2,3,4,5,6,7,8,9,10])\n",
    "simple_moving_average([1,3,9,16,25,36,49,64,81,100])"
   ]
  },
  {
   "cell_type": "markdown",
   "metadata": {},
   "source": [
    "### Exponential Moving Average (EMA)\n",
    "\n",
    "> Built in function in Pandas and SciKit!\n",
    " \n",
    "Sum of all items divided by number of items. In this context, applied to closing prices and volume over time. Sum of each daily closing price or volume over a given time range divided by the number of days in the time range.\n",
    " #### EMA = $c_{today}\\frac{2}{1 + N_{today}} + EMA_{yesterday}(1 - \\frac{2}{1 + N_{yesterday}})$\n",
    "---"
   ]
  },
  {
   "cell_type": "markdown",
   "metadata": {},
   "source": [
    "### Relative Strength Index (RSI)\n",
    " \n",
    "Oscillates on a scale of 0 to 100. Involves comparing average gain during up periods vs. average loss during down periods.\n",
    "\n",
    " #### RSI = $100 - [\\large\\frac{100}{1+\\frac{gain_{avg}}{loss_{avg}}}]$\n",
    "---"
   ]
  },
  {
   "cell_type": "markdown",
   "metadata": {},
   "source": [
    "### Commodity Channel Index (CCI)\n",
    " \n",
    "Involves comparing the current price to average price over a given time range. The numerator is the SMA subtracted from the typical price (the moving average of the high, low, and close over a given range). The denominator is a constant time the mean deviation (the absolute value for the overall average difference between the typical price and the SMA over the given time range).\n",
    "\n",
    " #### CCI = $\\Large\\frac{ \\sum_{i=1}^n {\\frac{high_i + low_i + close_i} {3}} - {SMA}}{{0.015} \\frac{|{\\sum_{i=1}^n {\\frac{high_i + low_i + close_i} {3}} - {SMA}}|}{n}}$\n",
    "---"
   ]
  },
  {
   "cell_type": "markdown",
   "metadata": {},
   "source": [
    "### Accumulation Distribution (AD)\n",
    " \n",
    "The ratio of the accumulation divided by the distribution to identify divergences between price and volume. For example, if price is rising but the indicator is falling, it may signal volume will not maintain the price and that price could drop.\n",
    "\n",
    " #### AD = $\\sum_{i=1}^n ( \\frac{(close_i - low_i) - (high_i - close_i)}{high_i - low_i} volume_i)$\n",
    "---"
   ]
  },
  {
   "cell_type": "markdown",
   "metadata": {},
   "source": [
    "### Stochastic K Percent\n",
    " \n",
    "The numerator is today's close minus the absolute minimum over the given time range. The denominator is the absolute high minus the absolute low for the given time range. the ratio is then multiplied by 100.\n",
    "\n",
    " #### K = $(\\Large\\frac{close_{today} - low_{lowest}}{high_{highest} - low_{lowest}}) 100$\n",
    "---"
   ]
  },
  {
   "cell_type": "markdown",
   "metadata": {},
   "source": [
    "### Stochastic D Percent\n",
    " \n",
    "SMA of the stochastic K% over a given time range. \n",
    "\n",
    " #### D = $SMA(k_0, k_1, ... , k_n)$\n",
    "---"
   ]
  },
  {
   "cell_type": "markdown",
   "metadata": {},
   "source": [
    "### Moving Average Convergence \\ Divergence (MACD)\n",
    " \n",
    "The difference between the 26 day EMA and the 12 day EMA. \n",
    "\n",
    " #### MACD = $EMA_{12days} - EMA_{26days}$\n",
    "---"
   ]
  }
 ],
 "metadata": {
  "kernelspec": {
   "display_name": "stocks_lstm_local-oIwf4ot9",
   "language": "python",
   "name": "python3"
  },
  "language_info": {
   "codemirror_mode": {
    "name": "ipython",
    "version": 3
   },
   "file_extension": ".py",
   "mimetype": "text/x-python",
   "name": "python",
   "nbconvert_exporter": "python",
   "pygments_lexer": "ipython3",
   "version": "3.10.1"
  }
 },
 "nbformat": 4,
 "nbformat_minor": 2
}
