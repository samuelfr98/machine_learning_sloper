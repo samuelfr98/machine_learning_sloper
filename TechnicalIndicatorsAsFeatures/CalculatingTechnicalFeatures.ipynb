{
 "cells": [
  {
   "cell_type": "markdown",
   "metadata": {},
   "source": [
    "# Formula Sheet for Derived Technical Indicator Features\n",
    "\n",
    "---"
   ]
  },
  {
   "cell_type": "markdown",
   "metadata": {},
   "source": [
    "This notebook will break down more complex technical indicator functions to be implemented as features in a model. Some of these feaatures require intensive computation effort for larger datasets; \n",
    "however, it is unlikely these will need to be calculated before the global notebook. This is more for practice, reference, and technical breakdown of what will be calculated at runtime.\n",
    "\n",
    "[Example Scholarly Article](https://arxiv.org/pdf/2205.06673.pdf) \n",
    "\n",
    "[TA-Lib Documentaion](https://github.com/TA-Lib/ta-lib-python/blob/master/docs/func_groups/momentum_indicators.md)\n",
    "\n",
    "---"
   ]
  },
  {
   "cell_type": "markdown",
   "metadata": {},
   "source": [
    "## List of Indicators\n",
    "\n",
    "1. [10 day simple moving average (SMA) closing price](#Simple-Moving-Average-(SMA))\n",
    "2. [50 day simple moving average (SMA) closing price](#Simple-Moving-Average-(SMA))\n",
    "> *Possibly consolidate above 2 items as difference*\n",
    "3. Current volume\n",
    "4. [200 day simple moving average (SMA) volume](#Simple-Moving-Average-(SMA))\n",
    "> *Possibly consolidate above 2 items as difference*\n",
    "5. [Weighted moving average (WMA) closing price](#Weighted-Moving-Average-(WMA))\n",
    "6. [Exponential moving average closing price](#Exponential-Moving-Average-(EMA))\n",
    "7. [Relative Strength Index (RSI)](#Relative-Strength-Index-(RSI))\n",
    "8. [Commodity Channel Index (CCI)](#Commodity-Channel-Index-(CCI))\n",
    "9. [Accumulation Distribution (AD)](#Accumulation-Distribution-(AD))\n",
    "10.  [Stochastic K%](#Stochastic-K-Percent)\n",
    "11.  [Stochastic D%](#Stochastic-D-Percent)\n",
    "12.  [Moving Average Convergence \\ Divergence (MACD)](#Moving-Average-Convergence-\\-Divergence-(MACD))\n",
    "    \n",
    "---"
   ]
  },
  {
   "cell_type": "code",
   "execution_count": 2,
   "metadata": {},
   "outputs": [],
   "source": [
    "import talib\n",
    "talib.set_compatibility(1)\n",
    "\n",
    "import numpy as np\n",
    "\n"
   ]
  },
  {
   "cell_type": "markdown",
   "metadata": {},
   "source": [
    "### Simple Moving Average (SMA)\n",
    "Sum of all items divided by number of items. In this context, applied to closing prices and volume over time. Sum of each daily closing price or volume over a given time range divided by the number of days in the time range.\n",
    "#### SMA = $\\Large\\frac{\\sum_{i=1}^n c_1 + c_2 + ... + c_n}{n}$\n",
    "---"
   ]
  },
  {
   "cell_type": "code",
   "execution_count": 3,
   "metadata": {},
   "outputs": [
    {
     "data": {
      "text/plain": [
       "5.5"
      ]
     },
     "execution_count": 3,
     "metadata": {},
     "output_type": "execute_result"
    }
   ],
   "source": [
    "# SMA\n",
    "\n",
    "def simple_moving_average(arr):\n",
    "    output = np.average(arr)\n",
    "    return output\n",
    "\n",
    "example_inputs = np.array([1.,2.,3.,4.,5.,6.,7.,8.,9.,10.])\n",
    "\n",
    "simple_moving_average(example_inputs)"
   ]
  },
  {
   "cell_type": "markdown",
   "metadata": {},
   "source": [
    "### Weighted Moving Average (WMA)\n",
    " Sum of all items with applied scaling weights divided by number of items. In this context, applied to closing prices over time. Sum of each daily closing price scaled by a decreasing multiplier over a given time range, then divided by the number of days in the time range. Provides emphasis on most recent closing prices.\n",
    " #### WMA = $\\Large\\frac{\\sum_{i=1}^n w_1c_1 + w_2c_2 + ... + w_nc_n}{\\sum_{i=1}^n w_i}$\n",
    "---"
   ]
  },
  {
   "cell_type": "code",
   "execution_count": 4,
   "metadata": {},
   "outputs": [
    {
     "data": {
      "text/plain": [
       "7.0"
      ]
     },
     "execution_count": 4,
     "metadata": {},
     "output_type": "execute_result"
    }
   ],
   "source": [
    "# WMA accepting array in order of oldest to most recent price. Items at end of input array are weighted more.\n",
    "\n",
    "\n",
    "def weighted_moving_average(arr):\n",
    "    wma = talib.WMA(arr, len(arr))\n",
    "    output=wma[len(wma)-1]\n",
    "    return output\n",
    "\n",
    "weighted_moving_average_with_np(example_inputs)\n",
    "\n"
   ]
  },
  {
   "cell_type": "markdown",
   "metadata": {},
   "source": [
    "### Exponential Moving Average (EMA)\n",
    "\n",
    "> Built in function in Pandas and SciKit!\n",
    " \n",
    "Weighted moving average where weights exponentially approach 0 for older items.\n",
    " #### EMA = $c_{today}\\frac{2}{1 + N_{today}} + EMA_{yesterday}(1 - \\frac{2}{1 + N_{yesterday}})$\n",
    "---"
   ]
  },
  {
   "cell_type": "code",
   "execution_count": 5,
   "metadata": {},
   "outputs": [
    {
     "data": {
      "text/plain": [
       "6.2393684801212155"
      ]
     },
     "execution_count": 5,
     "metadata": {},
     "output_type": "execute_result"
    }
   ],
   "source": [
    "# EMA\n",
    "\n",
    "def exponential_moving_average(arr):\n",
    "    ema = talib.EMA(np.array(arr), timeperiod=len(arr))\n",
    "    output = ema[len(ema)-1]\n",
    "    return output\n",
    "    \n",
    "exponential_moving_average(example_inputs)"
   ]
  },
  {
   "cell_type": "markdown",
   "metadata": {},
   "source": [
    "### Relative Strength Index (RSI)\n",
    " \n",
    "Oscillates on a scale of 0 to 100. Involves comparing average gain during up periods vs. average loss during down periods.\n",
    "\n",
    " #### RSI = $100 - [\\large\\frac{100}{1+\\frac{gain_{avg}}{loss_{avg}}}]$\n",
    "---"
   ]
  },
  {
   "cell_type": "code",
   "execution_count": 6,
   "metadata": {},
   "outputs": [
    {
     "name": "stdout",
     "output_type": "stream",
     "text": [
      "100.0\n"
     ]
    }
   ],
   "source": [
    "# RSI\n",
    "\n",
    "def relative_strength_index(arr):\n",
    "    rsi = talib.RSI(arr, len(arr))\n",
    "    output = rsi[len(rsi)-1]\n",
    "    return output\n",
    "\n",
    "print(relative_strength_index(example_inputs))\n",
    "    "
   ]
  },
  {
   "cell_type": "markdown",
   "metadata": {},
   "source": [
    "### Commodity Channel Index (CCI)\n",
    " \n",
    "Involves comparing the current price to average price over a given time range. The numerator is the SMA subtracted from the typical price (the moving average of the high, low, and close over a given range). The denominator is a constant time the mean deviation (the absolute value for the overall average difference between the typical price and the SMA over the given time range).\n",
    "\n",
    " #### CCI = $\\Large\\frac{ \\sum_{i=1}^n {\\frac{high_i + low_i + close_i} {3}} - {SMA}}{{0.015} \\frac{|{\\sum_{i=1}^n {\\frac{high_i + low_i + close_i} {3}} - {SMA}}|}{n}}$\n",
    "---"
   ]
  },
  {
   "cell_type": "code",
   "execution_count": 7,
   "metadata": {},
   "outputs": [
    {
     "name": "stdout",
     "output_type": "stream",
     "text": [
      "-22.22222222222222\n"
     ]
    }
   ],
   "source": [
    "# CCI\n",
    "\n",
    "def commodity_channel_index(highs, lows, closes):\n",
    "    assert(len(highs) == len(lows) == len(closes))\n",
    "    cci = talib.CCI(high=highs, low=lows, close=closes, timeperiod=len(highs))\n",
    "    output = cci[len(cci)-1]\n",
    "    return output\n",
    "\n",
    "example_closes = example_inputs\n",
    "example_highs = np.array([20.,30.,40.,50.,60.,7.,8.,9.,10.,11.])\n",
    "example_lows = np.array([0.,1.,2.,3.,4.,5.,6.,7.,8.,9.])\n",
    "\n",
    "print(commodity_channel_index(highs=example_highs, lows=example_lows, closes=example_closes))"
   ]
  },
  {
   "cell_type": "markdown",
   "metadata": {},
   "source": [
    "### Accumulation Distribution (AD)\n",
    " \n",
    "The ratio of the accumulation divided by the distribution to identify divergences between price and volume. For example, if price is rising but the indicator is falling, it may signal volume will not maintain the price and that price could drop.\n",
    "\n",
    " #### AD = $\\sum_{i=1}^n ( \\frac{(close_i - low_i) - (high_i - close_i)}{high_i - low_i} volume_i)$\n",
    "---"
   ]
  },
  {
   "cell_type": "code",
   "execution_count": 28,
   "metadata": {},
   "outputs": [
    {
     "data": {
      "text/plain": [
       "-481.4534557229464"
      ]
     },
     "execution_count": 28,
     "metadata": {},
     "output_type": "execute_result"
    }
   ],
   "source": [
    "# AD\n",
    "\n",
    "def accumulation_distribution(highs, lows, closes, volumes):\n",
    "    ad = talib.AD(high=highs, low=lows, close=closes, volume=volumes)\n",
    "    output = ad[len(ad)-1]\n",
    "    return output\n",
    "\n",
    "example_volumes=np.array([100.,101.,105.,102.,104.,108.,103.,107.,109.,106.])\n",
    "\n",
    "accumulation_distribution(highs=example_highs, lows=example_lows, closes=example_closes, volumes=example_volumes)"
   ]
  },
  {
   "cell_type": "markdown",
   "metadata": {},
   "source": [
    "### Stochastic K Percent\n",
    " \n",
    "The numerator is today's close minus the absolute minimum over the given time range. The denominator is the absolute high minus the absolute low for the given time range. the ratio is then multiplied by 100.\n",
    "\n",
    " #### K = $(\\Large\\frac{close_{today} - low_{lowest}}{high_{highest} - low_{lowest}}) 100$\n",
    "---"
   ]
  },
  {
   "cell_type": "code",
   "execution_count": 9,
   "metadata": {},
   "outputs": [
    {
     "data": {
      "text/plain": [
       "{'fast_k': 83.33333333333334, 'fast_d': 33.67794486215539}"
      ]
     },
     "execution_count": 9,
     "metadata": {},
     "output_type": "execute_result"
    }
   ],
   "source": [
    "# Return tuple with K%, D%\n",
    "\n",
    "def fast_stochastic(closes, lows, highs):\n",
    "    fast_k, fast_d = talib.STOCHF(high=highs, low=lows, close=closes)\n",
    "    output = {\"fast_k\": fast_k[len(fast_k)-1], \"fast_d\": fast_d[len(fast_d)-1]}\n",
    "    return output\n",
    "\n",
    "\n",
    "fast_stochastic(highs=example_highs,\n",
    "                lows=example_lows, closes=example_closes)"
   ]
  },
  {
   "cell_type": "markdown",
   "metadata": {},
   "source": [
    "### Stochastic D Percent\n",
    " \n",
    "SMA of the stochastic K% over a given time range. \n",
    "\n",
    " #### D = $SMA(k_0, k_1, ... , k_n)$\n",
    "---"
   ]
  },
  {
   "cell_type": "code",
   "execution_count": 10,
   "metadata": {},
   "outputs": [
    {
     "data": {
      "text/plain": [
       "{'slow_k': 33.67794486215539, 'slow_d': 17.024691249521297}"
      ]
     },
     "execution_count": 10,
     "metadata": {},
     "output_type": "execute_result"
    }
   ],
   "source": [
    "# Return tuple with K%, D%\n",
    "\n",
    "def slow_stochastic(closes, lows, highs):\n",
    "    slow_k, slow_d = talib.STOCH(high=highs, low=lows, close=closes)\n",
    "    output = {\"slow_k\": slow_k[len(slow_k)-1], \"slow_d\": slow_d[len(slow_d)-1]}\n",
    "    return output\n",
    "\n",
    "\n",
    "slow_stochastic(highs=example_highs,\n",
    "                lows=example_lows, closes=example_closes)"
   ]
  },
  {
   "cell_type": "markdown",
   "metadata": {},
   "source": [
    "### Moving Average Convergence \\ Divergence (MACD)\n",
    " \n",
    "The difference between the 26 day EMA and the 12 day EMA. \n",
    "\n",
    " #### MACD = $EMA_{12days} - EMA_{26days}$\n",
    "---"
   ]
  },
  {
   "cell_type": "code",
   "execution_count": 11,
   "metadata": {},
   "outputs": [
    {
     "name": "stdout",
     "output_type": "stream",
     "text": [
      "-0.9076387379770949\n"
     ]
    }
   ],
   "source": [
    "# MACD --> Returns triple with MACD, MACD Signal, MACD History\n",
    "\n",
    "import random\n",
    "\n",
    "def moving_average_convergence_divergence(closes):\n",
    "    macd, macdsignal, macdhist = talib.MACDFIX(closes)\n",
    "    output = macd[len(macd)-1]\n",
    "    print(output)\n",
    "    return output\n",
    "\n",
    "\n",
    "example_random_closes = np.array(list(map(lambda x: float(x), [random.randrange(0,300) for i in range(100)])))\n",
    "out = moving_average_convergence_divergence(example_random_closes)"
   ]
  }
 ],
 "metadata": {
  "kernelspec": {
   "display_name": "stocks_lstm_local-oIwf4ot9",
   "language": "python",
   "name": "python3"
  },
  "language_info": {
   "codemirror_mode": {
    "name": "ipython",
    "version": 3
   },
   "file_extension": ".py",
   "mimetype": "text/x-python",
   "name": "python",
   "nbconvert_exporter": "python",
   "pygments_lexer": "ipython3",
   "version": "3.10.1"
  }
 },
 "nbformat": 4,
 "nbformat_minor": 2
}
